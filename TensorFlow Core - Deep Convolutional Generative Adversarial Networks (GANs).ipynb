{
 "cells": [
  {
   "cell_type": "code",
   "execution_count": 7,
   "id": "eb42e96d",
   "metadata": {},
   "outputs": [
    {
     "name": "stdout",
     "output_type": "stream",
     "text": [
      "Collecting package metadata (current_repodata.json): ...working... done\n",
      "Solving environment: ...working... done\n",
      "\n",
      "## Package Plan ##\n",
      "\n",
      "  environment location: C:\\Python\\Anaconda3\n",
      "\n",
      "  added / updated specs:\n",
      "    - git\n",
      "\n",
      "\n",
      "The following packages will be downloaded:\n",
      "\n",
      "    package                    |            build\n",
      "    ---------------------------|-----------------\n",
      "    conda-4.13.0               |   py39haa95532_0         923 KB\n",
      "    git-2.34.1                 |       haa95532_0        50.4 MB\n",
      "    ------------------------------------------------------------\n",
      "                                           Total:        51.4 MB\n",
      "\n",
      "The following NEW packages will be INSTALLED:\n",
      "\n",
      "  git                pkgs/main/win-64::git-2.34.1-haa95532_0\n",
      "\n",
      "The following packages will be UPDATED:\n",
      "\n",
      "  conda                               4.12.0-py39haa95532_0 --> 4.13.0-py39haa95532_0\n",
      "\n",
      "\n",
      "\n",
      "Downloading and Extracting Packages\n",
      "\n",
      "git-2.34.1           | 50.4 MB   |            |   0% \n",
      "git-2.34.1           | 50.4 MB   |            |   0% \n",
      "git-2.34.1           | 50.4 MB   |            |   0% \n",
      "git-2.34.1           | 50.4 MB   | 1          |   1% \n",
      "git-2.34.1           | 50.4 MB   | 1          |   2% \n",
      "\n",
      "Note: you may need to restart the kernel to use updated packages.\n",
      "git-2.34.1           | 50.4 MB   | 2          |   3% \n",
      "git-2.34.1           | 50.4 MB   | 3          |   4% \n",
      "git-2.34.1           | 50.4 MB   | 4          |   4% \n",
      "git-2.34.1           | 50.4 MB   | 4          |   5% \n",
      "git-2.34.1           | 50.4 MB   | 5          |   6% \n",
      "git-2.34.1           | 50.4 MB   | 6          |   6% \n",
      "git-2.34.1           | 50.4 MB   | 7          |   7% \n",
      "git-2.34.1           | 50.4 MB   | 7          |   8% \n",
      "git-2.34.1           | 50.4 MB   | 8          |   8% \n",
      "git-2.34.1           | 50.4 MB   | 9          |   9% \n",
      "git-2.34.1           | 50.4 MB   | #          |  10% \n",
      "git-2.34.1           | 50.4 MB   | #1         |  11% \n",
      "git-2.34.1           | 50.4 MB   | #1         |  12% \n",
      "git-2.34.1           | 50.4 MB   | #2         |  13% \n",
      "git-2.34.1           | 50.4 MB   | #3         |  14% \n",
      "git-2.34.1           | 50.4 MB   | #4         |  14% \n",
      "git-2.34.1           | 50.4 MB   | #5         |  15% \n",
      "git-2.34.1           | 50.4 MB   | #6         |  16% \n",
      "git-2.34.1           | 50.4 MB   | #6         |  17% \n",
      "git-2.34.1           | 50.4 MB   | #7         |  18% \n",
      "git-2.34.1           | 50.4 MB   | #8         |  18% \n",
      "git-2.34.1           | 50.4 MB   | #8         |  19% \n",
      "git-2.34.1           | 50.4 MB   | #9         |  19% \n",
      "git-2.34.1           | 50.4 MB   | ##         |  21% \n",
      "git-2.34.1           | 50.4 MB   | ##1        |  22% \n",
      "git-2.34.1           | 50.4 MB   | ##2        |  22% \n",
      "git-2.34.1           | 50.4 MB   | ##3        |  23% \n",
      "git-2.34.1           | 50.4 MB   | ##4        |  24% \n",
      "git-2.34.1           | 50.4 MB   | ##4        |  25% \n",
      "git-2.34.1           | 50.4 MB   | ##5        |  25% \n",
      "git-2.34.1           | 50.4 MB   | ##6        |  26% \n",
      "git-2.34.1           | 50.4 MB   | ##6        |  27% \n",
      "git-2.34.1           | 50.4 MB   | ##7        |  28% \n",
      "git-2.34.1           | 50.4 MB   | ##8        |  28% \n",
      "git-2.34.1           | 50.4 MB   | ##9        |  29% \n",
      "git-2.34.1           | 50.4 MB   | ###        |  30% \n",
      "git-2.34.1           | 50.4 MB   | ###        |  31% \n",
      "git-2.34.1           | 50.4 MB   | ###1       |  31% \n",
      "git-2.34.1           | 50.4 MB   | ###2       |  32% \n",
      "git-2.34.1           | 50.4 MB   | ###3       |  33% \n",
      "git-2.34.1           | 50.4 MB   | ###4       |  34% \n",
      "git-2.34.1           | 50.4 MB   | ###4       |  35% \n",
      "git-2.34.1           | 50.4 MB   | ###5       |  36% \n",
      "git-2.34.1           | 50.4 MB   | ###6       |  37% \n",
      "git-2.34.1           | 50.4 MB   | ###7       |  37% \n",
      "git-2.34.1           | 50.4 MB   | ###8       |  38% \n",
      "git-2.34.1           | 50.4 MB   | ###9       |  39% \n",
      "git-2.34.1           | 50.4 MB   | ###9       |  40% \n",
      "git-2.34.1           | 50.4 MB   | ####       |  41% \n",
      "git-2.34.1           | 50.4 MB   | ####1      |  42% \n",
      "git-2.34.1           | 50.4 MB   | ####2      |  42% \n",
      "git-2.34.1           | 50.4 MB   | ####3      |  43% \n",
      "git-2.34.1           | 50.4 MB   | ####4      |  44% \n",
      "git-2.34.1           | 50.4 MB   | ####4      |  45% \n",
      "git-2.34.1           | 50.4 MB   | ####5      |  46% \n",
      "git-2.34.1           | 50.4 MB   | ####6      |  47% \n",
      "git-2.34.1           | 50.4 MB   | ####7      |  47% \n",
      "git-2.34.1           | 50.4 MB   | ####8      |  48% \n",
      "git-2.34.1           | 50.4 MB   | ####9      |  49% \n",
      "git-2.34.1           | 50.4 MB   | ####9      |  50% \n",
      "git-2.34.1           | 50.4 MB   | #####      |  50% \n",
      "git-2.34.1           | 50.4 MB   | #####1     |  51% \n",
      "git-2.34.1           | 50.4 MB   | #####1     |  52% \n",
      "git-2.34.1           | 50.4 MB   | #####2     |  53% \n",
      "git-2.34.1           | 50.4 MB   | #####3     |  53% \n",
      "git-2.34.1           | 50.4 MB   | #####3     |  54% \n",
      "git-2.34.1           | 50.4 MB   | #####4     |  55% \n",
      "git-2.34.1           | 50.4 MB   | #####6     |  57% \n",
      "git-2.34.1           | 50.4 MB   | #####8     |  58% \n",
      "git-2.34.1           | 50.4 MB   | #####9     |  59% \n",
      "git-2.34.1           | 50.4 MB   | ######     |  61% \n",
      "git-2.34.1           | 50.4 MB   | ######1    |  62% \n",
      "git-2.34.1           | 50.4 MB   | ######2    |  63% \n",
      "git-2.34.1           | 50.4 MB   | ######3    |  63% \n",
      "git-2.34.1           | 50.4 MB   | ######4    |  64% \n",
      "git-2.34.1           | 50.4 MB   | ######5    |  65% \n",
      "git-2.34.1           | 50.4 MB   | ######5    |  66% \n",
      "git-2.34.1           | 50.4 MB   | ######6    |  67% \n",
      "git-2.34.1           | 50.4 MB   | ######7    |  67% \n",
      "git-2.34.1           | 50.4 MB   | ######8    |  68% \n",
      "git-2.34.1           | 50.4 MB   | ######8    |  69% \n",
      "git-2.34.1           | 50.4 MB   | ######9    |  70% \n",
      "git-2.34.1           | 50.4 MB   | #######    |  70% \n",
      "git-2.34.1           | 50.4 MB   | #######1   |  71% \n",
      "git-2.34.1           | 50.4 MB   | #######1   |  72% \n",
      "git-2.34.1           | 50.4 MB   | #######2   |  73% \n",
      "git-2.34.1           | 50.4 MB   | #######3   |  73% \n",
      "git-2.34.1           | 50.4 MB   | #######3   |  74% \n",
      "git-2.34.1           | 50.4 MB   | #######4   |  75% \n",
      "git-2.34.1           | 50.4 MB   | #######5   |  75% \n",
      "git-2.34.1           | 50.4 MB   | #######5   |  76% \n",
      "git-2.34.1           | 50.4 MB   | #######6   |  77% \n",
      "git-2.34.1           | 50.4 MB   | #######7   |  77% \n",
      "git-2.34.1           | 50.4 MB   | #######8   |  78% \n",
      "git-2.34.1           | 50.4 MB   | #######8   |  79% \n",
      "git-2.34.1           | 50.4 MB   | #######9   |  79% \n",
      "git-2.34.1           | 50.4 MB   | ########   |  80% \n",
      "git-2.34.1           | 50.4 MB   | ########   |  81% \n",
      "git-2.34.1           | 50.4 MB   | ########1  |  82% \n",
      "git-2.34.1           | 50.4 MB   | ########2  |  83% "
     ]
    }
   ],
   "source": [
    "conda install git"
   ]
  },
  {
   "cell_type": "code",
   "execution_count": 1,
   "id": "690df836",
   "metadata": {},
   "outputs": [],
   "source": [
    "import glob\n",
    "import imageio\n",
    "import matplotlib.pyplot as plt\n",
    "import numpy as np\n",
    "import os\n",
    "import PIL\n",
    "import tensorflow as tf\n",
    "from tensorflow.keras import layers\n",
    "from tensorflow import keras\n",
    "import time\n",
    "from IPython import display"
   ]
  },
  {
   "cell_type": "code",
   "execution_count": 2,
   "id": "92171266",
   "metadata": {},
   "outputs": [],
   "source": [
    "# We'll use the MNIST to train the generator and discriminator. The generator will generate the\n",
    "# handwritten digits resembling the MNIST dataset:\n",
    "(train_images, train_labels), (_, _) = keras.datasets.mnist.load_data()\n",
    "\n",
    "train_images = train_images.reshape(train_images.shape[0], 28, 28, 1).astype('float32')\n",
    "train_images = (train_images - 127.5) / 127.5 # Normalize images to [-1.0, +1.0]\n",
    "\n",
    "BUFFER_SIZE = 60000\n",
    "BATCH_SIZE = 256\n",
    "\n",
    "# Batch and shuffle the data\n",
    "train_dataset = tf.data.Dataset.from_tensor_slices(train_images).shuffle(BUFFER_SIZE).batch(BATCH_SIZE)"
   ]
  },
  {
   "cell_type": "code",
   "execution_count": 3,
   "id": "22510996",
   "metadata": {},
   "outputs": [],
   "source": [
    "# The generator uses tf.keras.layers.Conv2DTranspose (upsampling) layers to produce an image from\n",
    "# a seed (random noise). We start with a Dense layer that takes this seed as input, then upsample\n",
    "# it several times until the desired size of 28x28x1:\n",
    "\n",
    "def generator_model():\n",
    "    model = keras.Sequential()\n",
    "    model.add(keras.layers.Dense(7*7*256, use_bias=False, input_shape=(100,)))\n",
    "    model.add(keras.layers.BatchNormalization())\n",
    "    model.add(keras.layers.LeakyReLU())\n",
    "        \n",
    "    model.add(keras.layers.Reshape((7, 7, 256)))\n",
    "    assert model.output_shape == (None, 7, 7, 256) # None is the batch size.\n",
    "    \n",
    "    model.add(keras.layers.Conv2DTranspose(128, (5, 5), strides=(1, 1), padding='same', use_bias=False))\n",
    "    assert model.output_shape == (None, 7, 7, 128)\n",
    "    model.add(keras.layers.BatchNormalization())\n",
    "    model.add(keras.layers.LeakyReLU())\n",
    "    \n",
    "    model.add(keras.layers.Conv2DTranspose(64, (5, 5), strides=(2, 2), padding='same', use_bias=False))\n",
    "    assert model.output_shape == (None, 14, 14, 64)\n",
    "    model.add(keras.layers.BatchNormalization())\n",
    "    model.add(keras.layers.LeakyReLU())\n",
    "    \n",
    "    model.add(keras.layers.Conv2DTranspose(1, (5, 5), strides=(2, 2), padding='same', use_bias=False, activation='tanh'))\n",
    "    assert model.output_shape == (None, 28, 28, 1)\n",
    "    \n",
    "    return model"
   ]
  },
  {
   "cell_type": "code",
   "execution_count": 13,
   "id": "51f2c34a",
   "metadata": {},
   "outputs": [
    {
     "data": {
      "text/plain": [
       "'Assertion is this, and assertion! We use assert to be sure a statement is exactly equals to \\nwhat we expect. Here, we check if the output shape is exactly (None, 7, 7, 256), otherwise it\\nthrows an error.'"
      ]
     },
     "execution_count": 13,
     "metadata": {},
     "output_type": "execute_result"
    }
   ],
   "source": [
    "'''Assertion is this, and assertion! We use assert to be sure a statement is exactly equals to \n",
    "what we expect. Here, we check if the output shape is exactly (None, 7, 7, 256), otherwise it\n",
    "throws an error.'''"
   ]
  },
  {
   "cell_type": "code",
   "execution_count": 4,
   "id": "5f216ad9",
   "metadata": {},
   "outputs": [
    {
     "data": {
      "text/plain": [
       "<matplotlib.image.AxesImage at 0x1c637ef4760>"
      ]
     },
     "execution_count": 4,
     "metadata": {},
     "output_type": "execute_result"
    },
    {
     "data": {
      "image/png": "[encoded data removed]",
      "text/plain": [
       "<Figure size 432x288 with 1 Axes>"
      ]
     },
     "metadata": {
      "needs_background": "light"
     },
     "output_type": "display_data"
    }
   ],
   "source": [
    "generator = generator_model()\n",
    "noise = tf.random.normal([1, 100])\n",
    "generated_image = generator(noise, training=False)\n",
    "\n",
    "plt.imshow(generated_image[0, :, :, 0], cmap='gray')"
   ]
  },
  {
   "cell_type": "code",
   "execution_count": 5,
   "id": "8f36f386",
   "metadata": {},
   "outputs": [],
   "source": [
    "# The discriminator is a CNN-based image classifier:\n",
    "\n",
    "def discriminator_model():\n",
    "    model = keras.Sequential()\n",
    "    model.add(keras.layers.Conv2D(64, (5, 5), strides=(2, 2), padding='same', use_bias=False, input_shape=[28, 28, 1]))\n",
    "    model.add(keras.layers.LeakyReLU())\n",
    "    model.add(keras.layers.Dropout(0.3))\n",
    "    \n",
    "    model.add(keras.layers.Conv2D(128, (5, 5), strides=(2, 2), padding='same', use_bias=False))\n",
    "    model.add(keras.layers.LeakyReLU())\n",
    "    model.add(keras.layers.Dropout(0.3))\n",
    "    \n",
    "    model.add(keras.layers.Flatten())\n",
    "    model.add(keras.layers.Dense(1))\n",
    "    \n",
    "    return model"
   ]
  },
  {
   "cell_type": "code",
   "execution_count": 6,
   "id": "d5d5a639",
   "metadata": {},
   "outputs": [
    {
     "name": "stdout",
     "output_type": "stream",
     "text": [
      "tf.Tensor([[-0.00231123]], shape=(1, 1), dtype=float32)\n"
     ]
    }
   ],
   "source": [
    "# We use the discriminator to classify images as real or fake. It is trained to output positive\n",
    "# values for real images, and negative values for fake images.\n",
    "discriminator = discriminator_model()\n",
    "decision = discriminator(generated_image)\n",
    "print(decision)"
   ]
  },
  {
   "cell_type": "code",
   "execution_count": 7,
   "id": "81449440",
   "metadata": {},
   "outputs": [],
   "source": [
    "# Define loss function and optimizers for both models:\n",
    "\n",
    "# This method returns a helper function to compute cross entropy loss\n",
    "cross_entropy = keras.losses.BinaryCrossentropy(from_logits=True)"
   ]
  },
  {
   "cell_type": "code",
   "execution_count": 8,
   "id": "ff45daf0",
   "metadata": {},
   "outputs": [],
   "source": [
    "# Now we quantify how well the discriminator distinguishes real images from fakes:\n",
    "def discriminator_loss(real_output, fake_output):\n",
    "    real_loss = cross_entropy(tf.ones_like(real_output), real_output)\n",
    "    fake_loss = cross_entropy(tf.zeros_like(fake_output), fake_output)\n",
    "    total_loss = real_loss + fake_loss\n",
    "    return total_loss"
   ]
  },
  {
   "cell_type": "code",
   "execution_count": 9,
   "id": "1582d44d",
   "metadata": {},
   "outputs": [],
   "source": [
    "# Now the generator loss, quantifying how well it tricks the discriminator:\n",
    "def generator_loss(fake_output):\n",
    "    return cross_entropy(tf.ones_like(fake_output), fake_output)"
   ]
  },
  {
   "cell_type": "code",
   "execution_count": 10,
   "id": "9a4e8a7e",
   "metadata": {},
   "outputs": [],
   "source": [
    "# Since the two networks are trained separately, they have separate optimizers:\n",
    "gener_opt = keras.optimizers.Adam(1e-4)\n",
    "discr_opt = keras.optimizers.Adam(1e-4)"
   ]
  },
  {
   "cell_type": "code",
   "execution_count": 11,
   "id": "42b5de10",
   "metadata": {},
   "outputs": [],
   "source": [
    "# We can save and restore our models, which can be helpful for a long running task:\n",
    "checkpoint_dir = './training_checkpoints'\n",
    "checkpoint_prefix = os.path.join(checkpoint_dir, 'ckpt')\n",
    "checkpoint = tf.train.Checkpoint(generator_optimizer=gener_opt,\n",
    "                                 discriminator_optimizer=discr_opt,\n",
    "                                 generator=generator,\n",
    "                                 discriminator=discriminator)"
   ]
  },
  {
   "cell_type": "code",
   "execution_count": 12,
   "id": "316e1c7c",
   "metadata": {},
   "outputs": [],
   "source": [
    "EPOCHS = 50\n",
    "noise_dim = 100\n",
    "num_examples_to_generate = 16\n",
    "\n",
    "# We'll reuse this seed over time, so it's easier to visualize progress in the GIF\n",
    "seed = tf.random.normal([num_examples_to_generate, noise_dim])"
   ]
  },
  {
   "cell_type": "code",
   "execution_count": 13,
   "id": "4e92a993",
   "metadata": {},
   "outputs": [],
   "source": [
    "# tf.function is used for the function to be \"compiled\":\n",
    "@tf.function\n",
    "def train_step(images):\n",
    "    noise = tf.random.normal([BATCH_SIZE, noise_dim])\n",
    "    \n",
    "    with tf.GradientTape() as gen_tape, tf.GradientTape() as disc_tape:\n",
    "        generated_images = generator(noise, training=True)\n",
    "        \n",
    "        real_output = discriminator(images, training=True)\n",
    "        fake_output = discriminator(generated_images, training=True)\n",
    "        \n",
    "        gen_loss = generator_loss(fake_output)\n",
    "        disc_loss = discriminator_loss(real_output, fake_output)\n",
    "        \n",
    "        generator_gradients = gen_tape.gradient(gen_loss, generator.trainable_variables)\n",
    "        discriminator_gradients = disc_tape.gradient(disc_loss, discriminator.trainable_variables)\n",
    "        \n",
    "        gener_opt.apply_gradients(zip(generator_gradients, generator.trainable_variables))\n",
    "        discr_opt.apply_gradients(zip(discriminator_gradients, discriminator.trainable_variables))"
   ]
  },
  {
   "cell_type": "code",
   "execution_count": 14,
   "id": "1690eaf3",
   "metadata": {},
   "outputs": [],
   "source": [
    "def train(dataset, epochs):\n",
    "    for epoch in range(epochs):\n",
    "        start = time.time()\n",
    "        \n",
    "        for image_batch in dataset:\n",
    "            train_step(image_batch)\n",
    "            \n",
    "        # Produces images for the GIFs as we go:\n",
    "        display.clear_output(wait=True)\n",
    "        generate_and_save_images(generator, epoch + 1, seed)\n",
    "        \n",
    "        # Save the model every 15 seconds:\n",
    "        if (epoch + 1) % 15 == 0:\n",
    "            checkpoint.save(file_prefix = checkpoint_prefix)\n",
    "        \n",
    "        print('Time for epoch {} is {} sec'.format(epoch + 1, time.time()-start))\n",
    "        \n",
    "    # Generate after the final epoch:\n",
    "    display.clear_output(wait=True)\n",
    "    generate_and_save_images(generator, epochs, seed)"
   ]
  },
  {
   "cell_type": "code",
   "execution_count": 15,
   "id": "58522574",
   "metadata": {},
   "outputs": [],
   "source": [
    "def generate_and_save_images(model, epoch, test_input):\n",
    "    predictions = model(test_input, training=False)\n",
    "    \n",
    "    fig = plt.figure(figsize=(4, 4))\n",
    "    \n",
    "    for i in range(predictions.shape[0]):\n",
    "        plt.subplot(4, 4, i+1)\n",
    "        plt.imshow(predictions[i, :, :, 0] * 127.5 + 127.5, cmap='gray')\n",
    "        plt.axis('off')\n",
    "        \n",
    "    plt.savefig('Image_at_epoch_{:04d}.png'.format(epoch))\n",
    "    plt.show()"
   ]
  },
  {
   "cell_type": "code",
   "execution_count": 16,
   "id": "2d33deb7",
   "metadata": {},
   "outputs": [
    {
     "data": {
      "image/png": "[encoded data removed]",
      "text/plain": [
       "<Figure size 288x288 with 16 Axes>"
      ]
     },
     "metadata": {
      "needs_background": "light"
     },
     "output_type": "display_data"
    },
    {
     "name": "stdout",
     "output_type": "stream",
     "text": [
      "Time for epoch 9 is 2510.070017337799 sec\n"
     ]
    },
    {
     "ename": "KeyboardInterrupt",
     "evalue": "",
     "output_type": "error",
     "traceback": [
      "\u001b[1;31m---------------------------------------------------------------------------\u001b[0m",
      "\u001b[1;31mKeyboardInterrupt\u001b[0m                         Traceback (most recent call last)",
      "\u001b[1;32m~\\AppData\\Local\\Temp/ipykernel_13320/2228458018.py\u001b[0m in \u001b[0;36m<module>\u001b[1;34m\u001b[0m\n\u001b[1;32m----> 1\u001b[1;33m \u001b[0mtrain\u001b[0m\u001b[1;33m(\u001b[0m\u001b[0mtrain_dataset\u001b[0m\u001b[1;33m,\u001b[0m \u001b[0mEPOCHS\u001b[0m\u001b[1;33m)\u001b[0m\u001b[1;33m\u001b[0m\u001b[1;33m\u001b[0m\u001b[0m\n\u001b[0m",
      "\u001b[1;32m~\\AppData\\Local\\Temp/ipykernel_13320/3518106396.py\u001b[0m in \u001b[0;36mtrain\u001b[1;34m(dataset, epochs)\u001b[0m\n\u001b[0;32m      4\u001b[0m \u001b[1;33m\u001b[0m\u001b[0m\n\u001b[0;32m      5\u001b[0m         \u001b[1;32mfor\u001b[0m \u001b[0mimage_batch\u001b[0m \u001b[1;32min\u001b[0m \u001b[0mdataset\u001b[0m\u001b[1;33m:\u001b[0m\u001b[1;33m\u001b[0m\u001b[1;33m\u001b[0m\u001b[0m\n\u001b[1;32m----> 6\u001b[1;33m             \u001b[0mtrain_step\u001b[0m\u001b[1;33m(\u001b[0m\u001b[0mimage_batch\u001b[0m\u001b[1;33m)\u001b[0m\u001b[1;33m\u001b[0m\u001b[1;33m\u001b[0m\u001b[0m\n\u001b[0m\u001b[0;32m      7\u001b[0m \u001b[1;33m\u001b[0m\u001b[0m\n\u001b[0;32m      8\u001b[0m         \u001b[1;31m# Produces images for the GIFs as we go:\u001b[0m\u001b[1;33m\u001b[0m\u001b[1;33m\u001b[0m\u001b[0m\n",
      "\u001b[1;32mC:\\Python\\Anaconda3\\lib\\site-packages\\tensorflow\\python\\util\\traceback_utils.py\u001b[0m in \u001b[0;36merror_handler\u001b[1;34m(*args, **kwargs)\u001b[0m\n\u001b[0;32m    148\u001b[0m     \u001b[0mfiltered_tb\u001b[0m \u001b[1;33m=\u001b[0m \u001b[1;32mNone\u001b[0m\u001b[1;33m\u001b[0m\u001b[1;33m\u001b[0m\u001b[0m\n\u001b[0;32m    149\u001b[0m     \u001b[1;32mtry\u001b[0m\u001b[1;33m:\u001b[0m\u001b[1;33m\u001b[0m\u001b[1;33m\u001b[0m\u001b[0m\n\u001b[1;32m--> 150\u001b[1;33m       \u001b[1;32mreturn\u001b[0m \u001b[0mfn\u001b[0m\u001b[1;33m(\u001b[0m\u001b[1;33m*\u001b[0m\u001b[0margs\u001b[0m\u001b[1;33m,\u001b[0m \u001b[1;33m**\u001b[0m\u001b[0mkwargs\u001b[0m\u001b[1;33m)\u001b[0m\u001b[1;33m\u001b[0m\u001b[1;33m\u001b[0m\u001b[0m\n\u001b[0m\u001b[0;32m    151\u001b[0m     \u001b[1;32mexcept\u001b[0m \u001b[0mException\u001b[0m \u001b[1;32mas\u001b[0m \u001b[0me\u001b[0m\u001b[1;33m:\u001b[0m\u001b[1;33m\u001b[0m\u001b[1;33m\u001b[0m\u001b[0m\n\u001b[0;32m    152\u001b[0m       \u001b[0mfiltered_tb\u001b[0m \u001b[1;33m=\u001b[0m \u001b[0m_process_traceback_frames\u001b[0m\u001b[1;33m(\u001b[0m\u001b[0me\u001b[0m\u001b[1;33m.\u001b[0m\u001b[0m__traceback__\u001b[0m\u001b[1;33m)\u001b[0m\u001b[1;33m\u001b[0m\u001b[1;33m\u001b[0m\u001b[0m\n",
      "\u001b[1;32mC:\\Python\\Anaconda3\\lib\\site-packages\\tensorflow\\python\\eager\\def_function.py\u001b[0m in \u001b[0;36m__call__\u001b[1;34m(self, *args, **kwds)\u001b[0m\n\u001b[0;32m    913\u001b[0m \u001b[1;33m\u001b[0m\u001b[0m\n\u001b[0;32m    914\u001b[0m       \u001b[1;32mwith\u001b[0m \u001b[0mOptionalXlaContext\u001b[0m\u001b[1;33m(\u001b[0m\u001b[0mself\u001b[0m\u001b[1;33m.\u001b[0m\u001b[0m_jit_compile\u001b[0m\u001b[1;33m)\u001b[0m\u001b[1;33m:\u001b[0m\u001b[1;33m\u001b[0m\u001b[1;33m\u001b[0m\u001b[0m\n\u001b[1;32m--> 915\u001b[1;33m         \u001b[0mresult\u001b[0m \u001b[1;33m=\u001b[0m \u001b[0mself\u001b[0m\u001b[1;33m.\u001b[0m\u001b[0m_call\u001b[0m\u001b[1;33m(\u001b[0m\u001b[1;33m*\u001b[0m\u001b[0margs\u001b[0m\u001b[1;33m,\u001b[0m \u001b[1;33m**\u001b[0m\u001b[0mkwds\u001b[0m\u001b[1;33m)\u001b[0m\u001b[1;33m\u001b[0m\u001b[1;33m\u001b[0m\u001b[0m\n\u001b[0m\u001b[0;32m    916\u001b[0m \u001b[1;33m\u001b[0m\u001b[0m\n\u001b[0;32m    917\u001b[0m       \u001b[0mnew_tracing_count\u001b[0m \u001b[1;33m=\u001b[0m \u001b[0mself\u001b[0m\u001b[1;33m.\u001b[0m\u001b[0mexperimental_get_tracing_count\u001b[0m\u001b[1;33m(\u001b[0m\u001b[1;33m)\u001b[0m\u001b[1;33m\u001b[0m\u001b[1;33m\u001b[0m\u001b[0m\n",
      "\u001b[1;32mC:\\Python\\Anaconda3\\lib\\site-packages\\tensorflow\\python\\eager\\def_function.py\u001b[0m in \u001b[0;36m_call\u001b[1;34m(self, *args, **kwds)\u001b[0m\n\u001b[0;32m    945\u001b[0m       \u001b[1;31m# In this case we have created variables on the first call, so we run the\u001b[0m\u001b[1;33m\u001b[0m\u001b[1;33m\u001b[0m\u001b[0m\n\u001b[0;32m    946\u001b[0m       \u001b[1;31m# defunned version which is guaranteed to never create variables.\u001b[0m\u001b[1;33m\u001b[0m\u001b[1;33m\u001b[0m\u001b[0m\n\u001b[1;32m--> 947\u001b[1;33m       \u001b[1;32mreturn\u001b[0m \u001b[0mself\u001b[0m\u001b[1;33m.\u001b[0m\u001b[0m_stateless_fn\u001b[0m\u001b[1;33m(\u001b[0m\u001b[1;33m*\u001b[0m\u001b[0margs\u001b[0m\u001b[1;33m,\u001b[0m \u001b[1;33m**\u001b[0m\u001b[0mkwds\u001b[0m\u001b[1;33m)\u001b[0m  \u001b[1;31m# pylint: disable=not-callable\u001b[0m\u001b[1;33m\u001b[0m\u001b[1;33m\u001b[0m\u001b[0m\n\u001b[0m\u001b[0;32m    948\u001b[0m     \u001b[1;32melif\u001b[0m \u001b[0mself\u001b[0m\u001b[1;33m.\u001b[0m\u001b[0m_stateful_fn\u001b[0m \u001b[1;32mis\u001b[0m \u001b[1;32mnot\u001b[0m \u001b[1;32mNone\u001b[0m\u001b[1;33m:\u001b[0m\u001b[1;33m\u001b[0m\u001b[1;33m\u001b[0m\u001b[0m\n\u001b[0;32m    949\u001b[0m       \u001b[1;31m# Release the lock early so that multiple threads can perform the call\u001b[0m\u001b[1;33m\u001b[0m\u001b[1;33m\u001b[0m\u001b[0m\n",
      "\u001b[1;32mC:\\Python\\Anaconda3\\lib\\site-packages\\tensorflow\\python\\eager\\function.py\u001b[0m in \u001b[0;36m__call__\u001b[1;34m(self, *args, **kwargs)\u001b[0m\n\u001b[0;32m   2954\u001b[0m       (graph_function,\n\u001b[0;32m   2955\u001b[0m        filtered_flat_args) = self._maybe_define_function(args, kwargs)\n\u001b[1;32m-> 2956\u001b[1;33m     return graph_function._call_flat(\n\u001b[0m\u001b[0;32m   2957\u001b[0m         filtered_flat_args, captured_inputs=graph_function.captured_inputs)  # pylint: disable=protected-access\n\u001b[0;32m   2958\u001b[0m \u001b[1;33m\u001b[0m\u001b[0m\n",
      "\u001b[1;32mC:\\Python\\Anaconda3\\lib\\site-packages\\tensorflow\\python\\eager\\function.py\u001b[0m in \u001b[0;36m_call_flat\u001b[1;34m(self, args, captured_inputs, cancellation_manager)\u001b[0m\n\u001b[0;32m   1851\u001b[0m         and executing_eagerly):\n\u001b[0;32m   1852\u001b[0m       \u001b[1;31m# No tape is watching; skip to running the function.\u001b[0m\u001b[1;33m\u001b[0m\u001b[1;33m\u001b[0m\u001b[0m\n\u001b[1;32m-> 1853\u001b[1;33m       return self._build_call_outputs(self._inference_function.call(\n\u001b[0m\u001b[0;32m   1854\u001b[0m           ctx, args, cancellation_manager=cancellation_manager))\n\u001b[0;32m   1855\u001b[0m     forward_backward = self._select_forward_and_backward_functions(\n",
      "\u001b[1;32mC:\\Python\\Anaconda3\\lib\\site-packages\\tensorflow\\python\\eager\\function.py\u001b[0m in \u001b[0;36mcall\u001b[1;34m(self, ctx, args, cancellation_manager)\u001b[0m\n\u001b[0;32m    497\u001b[0m       \u001b[1;32mwith\u001b[0m \u001b[0m_InterpolateFunctionError\u001b[0m\u001b[1;33m(\u001b[0m\u001b[0mself\u001b[0m\u001b[1;33m)\u001b[0m\u001b[1;33m:\u001b[0m\u001b[1;33m\u001b[0m\u001b[1;33m\u001b[0m\u001b[0m\n\u001b[0;32m    498\u001b[0m         \u001b[1;32mif\u001b[0m \u001b[0mcancellation_manager\u001b[0m \u001b[1;32mis\u001b[0m \u001b[1;32mNone\u001b[0m\u001b[1;33m:\u001b[0m\u001b[1;33m\u001b[0m\u001b[1;33m\u001b[0m\u001b[0m\n\u001b[1;32m--> 499\u001b[1;33m           outputs = execute.execute(\n\u001b[0m\u001b[0;32m    500\u001b[0m               \u001b[0mstr\u001b[0m\u001b[1;33m(\u001b[0m\u001b[0mself\u001b[0m\u001b[1;33m.\u001b[0m\u001b[0msignature\u001b[0m\u001b[1;33m.\u001b[0m\u001b[0mname\u001b[0m\u001b[1;33m)\u001b[0m\u001b[1;33m,\u001b[0m\u001b[1;33m\u001b[0m\u001b[1;33m\u001b[0m\u001b[0m\n\u001b[0;32m    501\u001b[0m               \u001b[0mnum_outputs\u001b[0m\u001b[1;33m=\u001b[0m\u001b[0mself\u001b[0m\u001b[1;33m.\u001b[0m\u001b[0m_num_outputs\u001b[0m\u001b[1;33m,\u001b[0m\u001b[1;33m\u001b[0m\u001b[1;33m\u001b[0m\u001b[0m\n",
      "\u001b[1;32mC:\\Python\\Anaconda3\\lib\\site-packages\\tensorflow\\python\\eager\\execute.py\u001b[0m in \u001b[0;36mquick_execute\u001b[1;34m(op_name, num_outputs, inputs, attrs, ctx, name)\u001b[0m\n\u001b[0;32m     52\u001b[0m   \u001b[1;32mtry\u001b[0m\u001b[1;33m:\u001b[0m\u001b[1;33m\u001b[0m\u001b[1;33m\u001b[0m\u001b[0m\n\u001b[0;32m     53\u001b[0m     \u001b[0mctx\u001b[0m\u001b[1;33m.\u001b[0m\u001b[0mensure_initialized\u001b[0m\u001b[1;33m(\u001b[0m\u001b[1;33m)\u001b[0m\u001b[1;33m\u001b[0m\u001b[1;33m\u001b[0m\u001b[0m\n\u001b[1;32m---> 54\u001b[1;33m     tensors = pywrap_tfe.TFE_Py_Execute(ctx._handle, device_name, op_name,\n\u001b[0m\u001b[0;32m     55\u001b[0m                                         inputs, attrs, num_outputs)\n\u001b[0;32m     56\u001b[0m   \u001b[1;32mexcept\u001b[0m \u001b[0mcore\u001b[0m\u001b[1;33m.\u001b[0m\u001b[0m_NotOkStatusException\u001b[0m \u001b[1;32mas\u001b[0m \u001b[0me\u001b[0m\u001b[1;33m:\u001b[0m\u001b[1;33m\u001b[0m\u001b[1;33m\u001b[0m\u001b[0m\n",
      "\u001b[1;31mKeyboardInterrupt\u001b[0m: "
     ]
    }
   ],
   "source": [
    "train(train_dataset, EPOCHS)"
   ]
  },
  {
   "cell_type": "code",
   "execution_count": null,
   "id": "3df3e95f",
   "metadata": {},
   "outputs": [],
   "source": [
    "checkpoint.restore(tf.train.latest_checkpoint(checkpoint_dir))"
   ]
  },
  {
   "cell_type": "code",
   "execution_count": null,
   "id": "43a69bbb",
   "metadata": {},
   "outputs": [],
   "source": [
    "# Display a single image using the epoch number:\n",
    "def display_image(epoch_no):\n",
    "    return PIL.Image.open('Image_at_epoch_{:04d}.png'.format(epoch_no))"
   ]
  },
  {
   "cell_type": "code",
   "execution_count": null,
   "id": "81d0e9b8",
   "metadata": {},
   "outputs": [],
   "source": [
    "display_image(EPOCHS)"
   ]
  },
  {
   "cell_type": "code",
   "execution_count": null,
   "id": "a78dff63",
   "metadata": {},
   "outputs": [],
   "source": [
    "# Now we use imageio to create an animated gif using the images we saved:\n",
    "anim_file = 'dcgan.gif'\n",
    "\n",
    "with imageio.get_writer(anim_file, mode='I') as writer:\n",
    "    filenames = glob.glob('image*.png')\n",
    "    filenames = sorted(filenames)\n",
    "    for filename in filenames:\n",
    "        image = imageio.imread(filename)\n",
    "        writer.append_data(image)\n",
    "    image = imageio.imread(filename)\n",
    "    writer.append_data(image)"
   ]
  },
  {
   "cell_type": "code",
   "execution_count": null,
   "id": "009719ad",
   "metadata": {},
   "outputs": [],
   "source": [
    "import tensorflow_docs.vis.embed as embed\n",
    "embed.embed_file(anim_file)"
   ]
  },
  {
   "cell_type": "code",
   "execution_count": null,
   "id": "6e9ef6e7",
   "metadata": {},
   "outputs": [],
   "source": []
  }
 ],
 "metadata": {
  "kernelspec": {
   "display_name": "Python 3 (ipykernel)",
   "language": "python",
   "name": "python3"
  },
  "language_info": {
   "codemirror_mode": {
    "name": "ipython",
    "version": 3
   },
   "file_extension": ".py",
   "mimetype": "text/x-python",
   "name": "python",
   "nbconvert_exporter": "python",
   "pygments_lexer": "ipython3",
   "version": "3.9.7"
  }
 },
 "nbformat": 4,
 "nbformat_minor": 5
}
