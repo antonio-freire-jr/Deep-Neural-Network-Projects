{
 "cells": [
  {
   "cell_type": "markdown",
   "id": "d97df7bb",
   "metadata": {},
   "source": [
    "# 1) Limpeza dos Dados"
   ]
  },
  {
   "cell_type": "markdown",
   "id": "592f60a1",
   "metadata": {},
   "source": [
    "Primeiro, temos que carregar os dados e começar a limpeza deles, a fim de corrigir imperfeições nos dados e assim permitir que o modelo de predição tenha dados da melhor qualidade possível para realizar predições:"
   ]
  },
  {
   "cell_type": "code",
   "execution_count": 32,
   "id": "60402d6d",
   "metadata": {
    "scrolled": false
   },
   "outputs": [
    {
     "data": {
      "text/html": [
       "<div>\n",
       "<style scoped>\n",
       "    .dataframe tbody tr th:only-of-type {\n",
       "        vertical-align: middle;\n",
       "    }\n",
       "\n",
       "    .dataframe tbody tr th {\n",
       "        vertical-align: top;\n",
       "    }\n",
       "\n",
       "    .dataframe thead th {\n",
       "        text-align: right;\n",
       "    }\n",
       "</style>\n",
       "<table border=\"1\" class=\"dataframe\">\n",
       "  <thead>\n",
       "    <tr style=\"text-align: right;\">\n",
       "      <th></th>\n",
       "      <th>age</th>\n",
       "      <th>workclass</th>\n",
       "      <th>fnlwgt</th>\n",
       "      <th>education</th>\n",
       "      <th>educational-num</th>\n",
       "      <th>marital-status</th>\n",
       "      <th>occupation</th>\n",
       "      <th>relationship</th>\n",
       "      <th>race</th>\n",
       "      <th>gender</th>\n",
       "      <th>capital-gain</th>\n",
       "      <th>capital-loss</th>\n",
       "      <th>hours-per-week</th>\n",
       "      <th>native-country</th>\n",
       "      <th>income</th>\n",
       "    </tr>\n",
       "  </thead>\n",
       "  <tbody>\n",
       "    <tr>\n",
       "      <th>0</th>\n",
       "      <td>25</td>\n",
       "      <td>Private</td>\n",
       "      <td>226802</td>\n",
       "      <td>11th</td>\n",
       "      <td>7</td>\n",
       "      <td>Never-married</td>\n",
       "      <td>Machine-op-inspct</td>\n",
       "      <td>Own-child</td>\n",
       "      <td>Black</td>\n",
       "      <td>Male</td>\n",
       "      <td>0</td>\n",
       "      <td>0</td>\n",
       "      <td>40</td>\n",
       "      <td>United-States</td>\n",
       "      <td>&lt;=50K</td>\n",
       "    </tr>\n",
       "    <tr>\n",
       "      <th>1</th>\n",
       "      <td>38</td>\n",
       "      <td>Private</td>\n",
       "      <td>89814</td>\n",
       "      <td>HS-grad</td>\n",
       "      <td>9</td>\n",
       "      <td>Married-civ-spouse</td>\n",
       "      <td>Farming-fishing</td>\n",
       "      <td>Husband</td>\n",
       "      <td>White</td>\n",
       "      <td>Male</td>\n",
       "      <td>0</td>\n",
       "      <td>0</td>\n",
       "      <td>50</td>\n",
       "      <td>United-States</td>\n",
       "      <td>&lt;=50K</td>\n",
       "    </tr>\n",
       "    <tr>\n",
       "      <th>2</th>\n",
       "      <td>28</td>\n",
       "      <td>Local-gov</td>\n",
       "      <td>336951</td>\n",
       "      <td>Assoc-acdm</td>\n",
       "      <td>12</td>\n",
       "      <td>Married-civ-spouse</td>\n",
       "      <td>Protective-serv</td>\n",
       "      <td>Husband</td>\n",
       "      <td>White</td>\n",
       "      <td>Male</td>\n",
       "      <td>0</td>\n",
       "      <td>0</td>\n",
       "      <td>40</td>\n",
       "      <td>United-States</td>\n",
       "      <td>&gt;50K</td>\n",
       "    </tr>\n",
       "    <tr>\n",
       "      <th>3</th>\n",
       "      <td>44</td>\n",
       "      <td>Private</td>\n",
       "      <td>160323</td>\n",
       "      <td>Some-college</td>\n",
       "      <td>10</td>\n",
       "      <td>Married-civ-spouse</td>\n",
       "      <td>Machine-op-inspct</td>\n",
       "      <td>Husband</td>\n",
       "      <td>Black</td>\n",
       "      <td>Male</td>\n",
       "      <td>7688</td>\n",
       "      <td>0</td>\n",
       "      <td>40</td>\n",
       "      <td>United-States</td>\n",
       "      <td>&gt;50K</td>\n",
       "    </tr>\n",
       "    <tr>\n",
       "      <th>4</th>\n",
       "      <td>18</td>\n",
       "      <td>?</td>\n",
       "      <td>103497</td>\n",
       "      <td>Some-college</td>\n",
       "      <td>10</td>\n",
       "      <td>Never-married</td>\n",
       "      <td>?</td>\n",
       "      <td>Own-child</td>\n",
       "      <td>White</td>\n",
       "      <td>Female</td>\n",
       "      <td>0</td>\n",
       "      <td>0</td>\n",
       "      <td>30</td>\n",
       "      <td>United-States</td>\n",
       "      <td>&lt;=50K</td>\n",
       "    </tr>\n",
       "    <tr>\n",
       "      <th>5</th>\n",
       "      <td>34</td>\n",
       "      <td>Private</td>\n",
       "      <td>198693</td>\n",
       "      <td>10th</td>\n",
       "      <td>6</td>\n",
       "      <td>Never-married</td>\n",
       "      <td>Other-service</td>\n",
       "      <td>Not-in-family</td>\n",
       "      <td>White</td>\n",
       "      <td>Male</td>\n",
       "      <td>0</td>\n",
       "      <td>0</td>\n",
       "      <td>30</td>\n",
       "      <td>United-States</td>\n",
       "      <td>&lt;=50K</td>\n",
       "    </tr>\n",
       "    <tr>\n",
       "      <th>6</th>\n",
       "      <td>29</td>\n",
       "      <td>?</td>\n",
       "      <td>227026</td>\n",
       "      <td>HS-grad</td>\n",
       "      <td>9</td>\n",
       "      <td>Never-married</td>\n",
       "      <td>?</td>\n",
       "      <td>Unmarried</td>\n",
       "      <td>Black</td>\n",
       "      <td>Male</td>\n",
       "      <td>0</td>\n",
       "      <td>0</td>\n",
       "      <td>40</td>\n",
       "      <td>United-States</td>\n",
       "      <td>&lt;=50K</td>\n",
       "    </tr>\n",
       "    <tr>\n",
       "      <th>7</th>\n",
       "      <td>63</td>\n",
       "      <td>Self-emp-not-inc</td>\n",
       "      <td>104626</td>\n",
       "      <td>Prof-school</td>\n",
       "      <td>15</td>\n",
       "      <td>Married-civ-spouse</td>\n",
       "      <td>Prof-specialty</td>\n",
       "      <td>Husband</td>\n",
       "      <td>White</td>\n",
       "      <td>Male</td>\n",
       "      <td>3103</td>\n",
       "      <td>0</td>\n",
       "      <td>32</td>\n",
       "      <td>United-States</td>\n",
       "      <td>&gt;50K</td>\n",
       "    </tr>\n",
       "    <tr>\n",
       "      <th>8</th>\n",
       "      <td>24</td>\n",
       "      <td>Private</td>\n",
       "      <td>369667</td>\n",
       "      <td>Some-college</td>\n",
       "      <td>10</td>\n",
       "      <td>Never-married</td>\n",
       "      <td>Other-service</td>\n",
       "      <td>Unmarried</td>\n",
       "      <td>White</td>\n",
       "      <td>Female</td>\n",
       "      <td>0</td>\n",
       "      <td>0</td>\n",
       "      <td>40</td>\n",
       "      <td>United-States</td>\n",
       "      <td>&lt;=50K</td>\n",
       "    </tr>\n",
       "    <tr>\n",
       "      <th>9</th>\n",
       "      <td>55</td>\n",
       "      <td>Private</td>\n",
       "      <td>104996</td>\n",
       "      <td>7th-8th</td>\n",
       "      <td>4</td>\n",
       "      <td>Married-civ-spouse</td>\n",
       "      <td>Craft-repair</td>\n",
       "      <td>Husband</td>\n",
       "      <td>White</td>\n",
       "      <td>Male</td>\n",
       "      <td>0</td>\n",
       "      <td>0</td>\n",
       "      <td>10</td>\n",
       "      <td>United-States</td>\n",
       "      <td>&lt;=50K</td>\n",
       "    </tr>\n",
       "    <tr>\n",
       "      <th>10</th>\n",
       "      <td>65</td>\n",
       "      <td>Private</td>\n",
       "      <td>184454</td>\n",
       "      <td>HS-grad</td>\n",
       "      <td>9</td>\n",
       "      <td>Married-civ-spouse</td>\n",
       "      <td>Machine-op-inspct</td>\n",
       "      <td>Husband</td>\n",
       "      <td>White</td>\n",
       "      <td>Male</td>\n",
       "      <td>6418</td>\n",
       "      <td>0</td>\n",
       "      <td>40</td>\n",
       "      <td>United-States</td>\n",
       "      <td>&gt;50K</td>\n",
       "    </tr>\n",
       "    <tr>\n",
       "      <th>11</th>\n",
       "      <td>36</td>\n",
       "      <td>Federal-gov</td>\n",
       "      <td>212465</td>\n",
       "      <td>Bachelors</td>\n",
       "      <td>13</td>\n",
       "      <td>Married-civ-spouse</td>\n",
       "      <td>Adm-clerical</td>\n",
       "      <td>Husband</td>\n",
       "      <td>White</td>\n",
       "      <td>Male</td>\n",
       "      <td>0</td>\n",
       "      <td>0</td>\n",
       "      <td>40</td>\n",
       "      <td>United-States</td>\n",
       "      <td>&lt;=50K</td>\n",
       "    </tr>\n",
       "    <tr>\n",
       "      <th>12</th>\n",
       "      <td>26</td>\n",
       "      <td>Private</td>\n",
       "      <td>82091</td>\n",
       "      <td>HS-grad</td>\n",
       "      <td>9</td>\n",
       "      <td>Never-married</td>\n",
       "      <td>Adm-clerical</td>\n",
       "      <td>Not-in-family</td>\n",
       "      <td>White</td>\n",
       "      <td>Female</td>\n",
       "      <td>0</td>\n",
       "      <td>0</td>\n",
       "      <td>39</td>\n",
       "      <td>United-States</td>\n",
       "      <td>&lt;=50K</td>\n",
       "    </tr>\n",
       "    <tr>\n",
       "      <th>13</th>\n",
       "      <td>58</td>\n",
       "      <td>?</td>\n",
       "      <td>299831</td>\n",
       "      <td>HS-grad</td>\n",
       "      <td>9</td>\n",
       "      <td>Married-civ-spouse</td>\n",
       "      <td>?</td>\n",
       "      <td>Husband</td>\n",
       "      <td>White</td>\n",
       "      <td>Male</td>\n",
       "      <td>0</td>\n",
       "      <td>0</td>\n",
       "      <td>35</td>\n",
       "      <td>United-States</td>\n",
       "      <td>&lt;=50K</td>\n",
       "    </tr>\n",
       "    <tr>\n",
       "      <th>14</th>\n",
       "      <td>48</td>\n",
       "      <td>Private</td>\n",
       "      <td>279724</td>\n",
       "      <td>HS-grad</td>\n",
       "      <td>9</td>\n",
       "      <td>Married-civ-spouse</td>\n",
       "      <td>Machine-op-inspct</td>\n",
       "      <td>Husband</td>\n",
       "      <td>White</td>\n",
       "      <td>Male</td>\n",
       "      <td>3103</td>\n",
       "      <td>0</td>\n",
       "      <td>48</td>\n",
       "      <td>United-States</td>\n",
       "      <td>&gt;50K</td>\n",
       "    </tr>\n",
       "    <tr>\n",
       "      <th>15</th>\n",
       "      <td>43</td>\n",
       "      <td>Private</td>\n",
       "      <td>346189</td>\n",
       "      <td>Masters</td>\n",
       "      <td>14</td>\n",
       "      <td>Married-civ-spouse</td>\n",
       "      <td>Exec-managerial</td>\n",
       "      <td>Husband</td>\n",
       "      <td>White</td>\n",
       "      <td>Male</td>\n",
       "      <td>0</td>\n",
       "      <td>0</td>\n",
       "      <td>50</td>\n",
       "      <td>United-States</td>\n",
       "      <td>&gt;50K</td>\n",
       "    </tr>\n",
       "    <tr>\n",
       "      <th>16</th>\n",
       "      <td>20</td>\n",
       "      <td>State-gov</td>\n",
       "      <td>444554</td>\n",
       "      <td>Some-college</td>\n",
       "      <td>10</td>\n",
       "      <td>Never-married</td>\n",
       "      <td>Other-service</td>\n",
       "      <td>Own-child</td>\n",
       "      <td>White</td>\n",
       "      <td>Male</td>\n",
       "      <td>0</td>\n",
       "      <td>0</td>\n",
       "      <td>25</td>\n",
       "      <td>United-States</td>\n",
       "      <td>&lt;=50K</td>\n",
       "    </tr>\n",
       "    <tr>\n",
       "      <th>17</th>\n",
       "      <td>43</td>\n",
       "      <td>Private</td>\n",
       "      <td>128354</td>\n",
       "      <td>HS-grad</td>\n",
       "      <td>9</td>\n",
       "      <td>Married-civ-spouse</td>\n",
       "      <td>Adm-clerical</td>\n",
       "      <td>Wife</td>\n",
       "      <td>White</td>\n",
       "      <td>Female</td>\n",
       "      <td>0</td>\n",
       "      <td>0</td>\n",
       "      <td>30</td>\n",
       "      <td>United-States</td>\n",
       "      <td>&lt;=50K</td>\n",
       "    </tr>\n",
       "    <tr>\n",
       "      <th>18</th>\n",
       "      <td>37</td>\n",
       "      <td>Private</td>\n",
       "      <td>60548</td>\n",
       "      <td>HS-grad</td>\n",
       "      <td>9</td>\n",
       "      <td>Widowed</td>\n",
       "      <td>Machine-op-inspct</td>\n",
       "      <td>Unmarried</td>\n",
       "      <td>White</td>\n",
       "      <td>Female</td>\n",
       "      <td>0</td>\n",
       "      <td>0</td>\n",
       "      <td>20</td>\n",
       "      <td>United-States</td>\n",
       "      <td>&lt;=50K</td>\n",
       "    </tr>\n",
       "    <tr>\n",
       "      <th>19</th>\n",
       "      <td>40</td>\n",
       "      <td>Private</td>\n",
       "      <td>85019</td>\n",
       "      <td>Doctorate</td>\n",
       "      <td>16</td>\n",
       "      <td>Married-civ-spouse</td>\n",
       "      <td>Prof-specialty</td>\n",
       "      <td>Husband</td>\n",
       "      <td>Asian-Pac-Islander</td>\n",
       "      <td>Male</td>\n",
       "      <td>0</td>\n",
       "      <td>0</td>\n",
       "      <td>45</td>\n",
       "      <td>?</td>\n",
       "      <td>&gt;50K</td>\n",
       "    </tr>\n",
       "  </tbody>\n",
       "</table>\n",
       "</div>"
      ],
      "text/plain": [
       "    age         workclass  fnlwgt     education  educational-num  \\\n",
       "0    25           Private  226802          11th                7   \n",
       "1    38           Private   89814       HS-grad                9   \n",
       "2    28         Local-gov  336951    Assoc-acdm               12   \n",
       "3    44           Private  160323  Some-college               10   \n",
       "4    18                 ?  103497  Some-college               10   \n",
       "5    34           Private  198693          10th                6   \n",
       "6    29                 ?  227026       HS-grad                9   \n",
       "7    63  Self-emp-not-inc  104626   Prof-school               15   \n",
       "8    24           Private  369667  Some-college               10   \n",
       "9    55           Private  104996       7th-8th                4   \n",
       "10   65           Private  184454       HS-grad                9   \n",
       "11   36       Federal-gov  212465     Bachelors               13   \n",
       "12   26           Private   82091       HS-grad                9   \n",
       "13   58                 ?  299831       HS-grad                9   \n",
       "14   48           Private  279724       HS-grad                9   \n",
       "15   43           Private  346189       Masters               14   \n",
       "16   20         State-gov  444554  Some-college               10   \n",
       "17   43           Private  128354       HS-grad                9   \n",
       "18   37           Private   60548       HS-grad                9   \n",
       "19   40           Private   85019     Doctorate               16   \n",
       "\n",
       "        marital-status         occupation   relationship                race  \\\n",
       "0        Never-married  Machine-op-inspct      Own-child               Black   \n",
       "1   Married-civ-spouse    Farming-fishing        Husband               White   \n",
       "2   Married-civ-spouse    Protective-serv        Husband               White   \n",
       "3   Married-civ-spouse  Machine-op-inspct        Husband               Black   \n",
       "4        Never-married                  ?      Own-child               White   \n",
       "5        Never-married      Other-service  Not-in-family               White   \n",
       "6        Never-married                  ?      Unmarried               Black   \n",
       "7   Married-civ-spouse     Prof-specialty        Husband               White   \n",
       "8        Never-married      Other-service      Unmarried               White   \n",
       "9   Married-civ-spouse       Craft-repair        Husband               White   \n",
       "10  Married-civ-spouse  Machine-op-inspct        Husband               White   \n",
       "11  Married-civ-spouse       Adm-clerical        Husband               White   \n",
       "12       Never-married       Adm-clerical  Not-in-family               White   \n",
       "13  Married-civ-spouse                  ?        Husband               White   \n",
       "14  Married-civ-spouse  Machine-op-inspct        Husband               White   \n",
       "15  Married-civ-spouse    Exec-managerial        Husband               White   \n",
       "16       Never-married      Other-service      Own-child               White   \n",
       "17  Married-civ-spouse       Adm-clerical           Wife               White   \n",
       "18             Widowed  Machine-op-inspct      Unmarried               White   \n",
       "19  Married-civ-spouse     Prof-specialty        Husband  Asian-Pac-Islander   \n",
       "\n",
       "    gender  capital-gain  capital-loss  hours-per-week native-country income  \n",
       "0     Male             0             0              40  United-States  <=50K  \n",
       "1     Male             0             0              50  United-States  <=50K  \n",
       "2     Male             0             0              40  United-States   >50K  \n",
       "3     Male          7688             0              40  United-States   >50K  \n",
       "4   Female             0             0              30  United-States  <=50K  \n",
       "5     Male             0             0              30  United-States  <=50K  \n",
       "6     Male             0             0              40  United-States  <=50K  \n",
       "7     Male          3103             0              32  United-States   >50K  \n",
       "8   Female             0             0              40  United-States  <=50K  \n",
       "9     Male             0             0              10  United-States  <=50K  \n",
       "10    Male          6418             0              40  United-States   >50K  \n",
       "11    Male             0             0              40  United-States  <=50K  \n",
       "12  Female             0             0              39  United-States  <=50K  \n",
       "13    Male             0             0              35  United-States  <=50K  \n",
       "14    Male          3103             0              48  United-States   >50K  \n",
       "15    Male             0             0              50  United-States   >50K  \n",
       "16    Male             0             0              25  United-States  <=50K  \n",
       "17  Female             0             0              30  United-States  <=50K  \n",
       "18  Female             0             0              20  United-States  <=50K  \n",
       "19    Male             0             0              45              ?   >50K  "
      ]
     },
     "execution_count": 32,
     "metadata": {},
     "output_type": "execute_result"
    }
   ],
   "source": [
    "import os\n",
    "import csv\n",
    "import pandas as pd\n",
    "\n",
    "notebook_path = os.path.abspath(\"Turing_Case_Tecnico.ipynb\")\n",
    "data_adults = os.path.join(os.path.dirname(notebook_path), \"datasets/adult.csv\")\n",
    "data = pd.read_csv(data_adults)\n",
    "\n",
    "data.head(20)"
   ]
  },
  {
   "cell_type": "code",
   "execution_count": 33,
   "id": "6f63912d",
   "metadata": {},
   "outputs": [
    {
     "name": "stdout",
     "output_type": "stream",
     "text": [
      "<class 'pandas.core.frame.DataFrame'>\n",
      "RangeIndex: 48842 entries, 0 to 48841\n",
      "Data columns (total 15 columns):\n",
      " #   Column           Non-Null Count  Dtype \n",
      "---  ------           --------------  ----- \n",
      " 0   age              48842 non-null  int64 \n",
      " 1   workclass        48842 non-null  object\n",
      " 2   fnlwgt           48842 non-null  int64 \n",
      " 3   education        48842 non-null  object\n",
      " 4   educational-num  48842 non-null  int64 \n",
      " 5   marital-status   48842 non-null  object\n",
      " 6   occupation       48842 non-null  object\n",
      " 7   relationship     48842 non-null  object\n",
      " 8   race             48842 non-null  object\n",
      " 9   gender           48842 non-null  object\n",
      " 10  capital-gain     48842 non-null  int64 \n",
      " 11  capital-loss     48842 non-null  int64 \n",
      " 12  hours-per-week   48842 non-null  int64 \n",
      " 13  native-country   48842 non-null  object\n",
      " 14  income           48842 non-null  object\n",
      "dtypes: int64(6), object(9)\n",
      "memory usage: 5.6+ MB\n"
     ]
    }
   ],
   "source": [
    "data.info()"
   ]
  },
  {
   "cell_type": "code",
   "execution_count": 34,
   "id": "3987946b",
   "metadata": {},
   "outputs": [
    {
     "data": {
      "text/html": [
       "<div>\n",
       "<style scoped>\n",
       "    .dataframe tbody tr th:only-of-type {\n",
       "        vertical-align: middle;\n",
       "    }\n",
       "\n",
       "    .dataframe tbody tr th {\n",
       "        vertical-align: top;\n",
       "    }\n",
       "\n",
       "    .dataframe thead th {\n",
       "        text-align: right;\n",
       "    }\n",
       "</style>\n",
       "<table border=\"1\" class=\"dataframe\">\n",
       "  <thead>\n",
       "    <tr style=\"text-align: right;\">\n",
       "      <th></th>\n",
       "      <th>age</th>\n",
       "      <th>fnlwgt</th>\n",
       "      <th>educational-num</th>\n",
       "      <th>capital-gain</th>\n",
       "      <th>capital-loss</th>\n",
       "      <th>hours-per-week</th>\n",
       "    </tr>\n",
       "  </thead>\n",
       "  <tbody>\n",
       "    <tr>\n",
       "      <th>count</th>\n",
       "      <td>48842.000000</td>\n",
       "      <td>4.884200e+04</td>\n",
       "      <td>48842.000000</td>\n",
       "      <td>48842.000000</td>\n",
       "      <td>48842.000000</td>\n",
       "      <td>48842.000000</td>\n",
       "    </tr>\n",
       "    <tr>\n",
       "      <th>mean</th>\n",
       "      <td>38.643585</td>\n",
       "      <td>1.896641e+05</td>\n",
       "      <td>10.078089</td>\n",
       "      <td>1079.067626</td>\n",
       "      <td>87.502314</td>\n",
       "      <td>40.422382</td>\n",
       "    </tr>\n",
       "    <tr>\n",
       "      <th>std</th>\n",
       "      <td>13.710510</td>\n",
       "      <td>1.056040e+05</td>\n",
       "      <td>2.570973</td>\n",
       "      <td>7452.019058</td>\n",
       "      <td>403.004552</td>\n",
       "      <td>12.391444</td>\n",
       "    </tr>\n",
       "    <tr>\n",
       "      <th>min</th>\n",
       "      <td>17.000000</td>\n",
       "      <td>1.228500e+04</td>\n",
       "      <td>1.000000</td>\n",
       "      <td>0.000000</td>\n",
       "      <td>0.000000</td>\n",
       "      <td>1.000000</td>\n",
       "    </tr>\n",
       "    <tr>\n",
       "      <th>25%</th>\n",
       "      <td>28.000000</td>\n",
       "      <td>1.175505e+05</td>\n",
       "      <td>9.000000</td>\n",
       "      <td>0.000000</td>\n",
       "      <td>0.000000</td>\n",
       "      <td>40.000000</td>\n",
       "    </tr>\n",
       "    <tr>\n",
       "      <th>50%</th>\n",
       "      <td>37.000000</td>\n",
       "      <td>1.781445e+05</td>\n",
       "      <td>10.000000</td>\n",
       "      <td>0.000000</td>\n",
       "      <td>0.000000</td>\n",
       "      <td>40.000000</td>\n",
       "    </tr>\n",
       "    <tr>\n",
       "      <th>75%</th>\n",
       "      <td>48.000000</td>\n",
       "      <td>2.376420e+05</td>\n",
       "      <td>12.000000</td>\n",
       "      <td>0.000000</td>\n",
       "      <td>0.000000</td>\n",
       "      <td>45.000000</td>\n",
       "    </tr>\n",
       "    <tr>\n",
       "      <th>max</th>\n",
       "      <td>90.000000</td>\n",
       "      <td>1.490400e+06</td>\n",
       "      <td>16.000000</td>\n",
       "      <td>99999.000000</td>\n",
       "      <td>4356.000000</td>\n",
       "      <td>99.000000</td>\n",
       "    </tr>\n",
       "  </tbody>\n",
       "</table>\n",
       "</div>"
      ],
      "text/plain": [
       "                age        fnlwgt  educational-num  capital-gain  \\\n",
       "count  48842.000000  4.884200e+04     48842.000000  48842.000000   \n",
       "mean      38.643585  1.896641e+05        10.078089   1079.067626   \n",
       "std       13.710510  1.056040e+05         2.570973   7452.019058   \n",
       "min       17.000000  1.228500e+04         1.000000      0.000000   \n",
       "25%       28.000000  1.175505e+05         9.000000      0.000000   \n",
       "50%       37.000000  1.781445e+05        10.000000      0.000000   \n",
       "75%       48.000000  2.376420e+05        12.000000      0.000000   \n",
       "max       90.000000  1.490400e+06        16.000000  99999.000000   \n",
       "\n",
       "       capital-loss  hours-per-week  \n",
       "count  48842.000000    48842.000000  \n",
       "mean      87.502314       40.422382  \n",
       "std      403.004552       12.391444  \n",
       "min        0.000000        1.000000  \n",
       "25%        0.000000       40.000000  \n",
       "50%        0.000000       40.000000  \n",
       "75%        0.000000       45.000000  \n",
       "max     4356.000000       99.000000  "
      ]
     },
     "execution_count": 34,
     "metadata": {},
     "output_type": "execute_result"
    }
   ],
   "source": [
    "data.describe()"
   ]
  },
  {
   "cell_type": "markdown",
   "id": "56b46109",
   "metadata": {},
   "source": [
    "Através de .head(), .info() e .describe(), já obtivemos informações relevantes. Observamos que existem instâncias atribuidas como '?' em mais de uma coluna, que todas as classes estão com os datatypes condizentes, e informações sobre os quartis de algumas colunas.\n",
    "\n",
    "Vamos checar por duplicatas e excluí-las, caso estejam presentes:"
   ]
  },
  {
   "cell_type": "code",
   "execution_count": 35,
   "id": "a72fa74b",
   "metadata": {
    "scrolled": true
   },
   "outputs": [
    {
     "name": "stdout",
     "output_type": "stream",
     "text": [
      "       age         workclass  fnlwgt     education  educational-num  \\\n",
      "864     24           Private  194630     Bachelors               13   \n",
      "11189   37           Private   52870     Bachelors               13   \n",
      "11212   29           Private   36440     Bachelors               13   \n",
      "13848   30           Private  180317     Assoc-voc               11   \n",
      "15960   18      Self-emp-inc  378036          12th                8   \n",
      "18476   39           Private  184659       HS-grad                9   \n",
      "19399   19           Private  130431       5th-6th                3   \n",
      "19726   41           Private  116391     Bachelors               13   \n",
      "20606   25           Private  308144     Bachelors               13   \n",
      "21162   25           Private  308144     Bachelors               13   \n",
      "21385   90           Private   52386  Some-college               10   \n",
      "24361   21           Private  243368     Preschool                1   \n",
      "25189   29                 ?   41281     Bachelors               13   \n",
      "25452   21           Private  250051  Some-college               10   \n",
      "25652   23           Private  239539       HS-grad                9   \n",
      "26122   21           Private  301694       HS-grad                9   \n",
      "26375   19                 ?  167428  Some-college               10   \n",
      "27912   20           Private  107658  Some-college               10   \n",
      "29365   25           Private  195994       1st-4th                2   \n",
      "30862   31           Private  228873       HS-grad                9   \n",
      "30971   19           Private  318822       HS-grad                9   \n",
      "31340   21           Private  243368     Preschool                1   \n",
      "33321   46           Private  173243       HS-grad                9   \n",
      "34148   45           Private   82797     Bachelors               13   \n",
      "34836   30           Private  144593       HS-grad                9   \n",
      "34979   19           Private   97261       HS-grad                9   \n",
      "35848   47           Private  199058  Some-college               10   \n",
      "36767   43           Private  195258       HS-grad                9   \n",
      "36848   22           Private  137876  Some-college               10   \n",
      "37599   19           Private  138153  Some-college               10   \n",
      "37771   19           Private  146679  Some-college               10   \n",
      "38156   49           Private   31267       7th-8th                4   \n",
      "38255   30           Private  111567       HS-grad                9   \n",
      "38530   19           Private  139466  Some-college               10   \n",
      "38581   25           Private  195994       1st-4th                2   \n",
      "38648   44           Private  367749     Bachelors               13   \n",
      "38775   49  Self-emp-not-inc   43479  Some-college               10   \n",
      "40948   17           Private  153021          12th                8   \n",
      "41965   25           Private  112835     Bachelors               13   \n",
      "42153   23           Private  240137       5th-6th                3   \n",
      "42594   28           Private  274679       Masters               14   \n",
      "44201   23           Private  107882     Bachelors               13   \n",
      "44511   27           Private  255582       HS-grad                9   \n",
      "44803   42           Private  204235  Some-college               10   \n",
      "45127   39           Private   30916       HS-grad                9   \n",
      "45438   38           Private  207202       HS-grad                9   \n",
      "46626   23           Private  250630     Bachelors               13   \n",
      "46665   20                 ?  203353  Some-college               10   \n",
      "46979   22                 ?  334593  Some-college               10   \n",
      "47126   46           Private  133616  Some-college               10   \n",
      "48274   19           Private  251579  Some-college               10   \n",
      "48685   35           Private  379959       HS-grad                9   \n",
      "\n",
      "              marital-status         occupation   relationship  \\\n",
      "864            Never-married     Prof-specialty  Not-in-family   \n",
      "11189     Married-civ-spouse    Exec-managerial        Husband   \n",
      "11212          Never-married       Adm-clerical  Not-in-family   \n",
      "13848               Divorced  Machine-op-inspct  Not-in-family   \n",
      "15960          Never-married    Farming-fishing      Own-child   \n",
      "18476     Married-civ-spouse  Machine-op-inspct        Husband   \n",
      "19399          Never-married    Farming-fishing  Not-in-family   \n",
      "19726     Married-civ-spouse    Exec-managerial        Husband   \n",
      "20606          Never-married       Craft-repair  Not-in-family   \n",
      "21162          Never-married       Craft-repair  Not-in-family   \n",
      "21385          Never-married      Other-service  Not-in-family   \n",
      "24361          Never-married    Farming-fishing  Not-in-family   \n",
      "25189  Married-spouse-absent                  ?  Not-in-family   \n",
      "25452          Never-married     Prof-specialty      Own-child   \n",
      "25652          Never-married  Machine-op-inspct      Own-child   \n",
      "26122          Never-married       Craft-repair  Not-in-family   \n",
      "26375          Never-married                  ?      Own-child   \n",
      "27912          Never-married       Tech-support  Not-in-family   \n",
      "29365          Never-married    Priv-house-serv  Not-in-family   \n",
      "30862     Married-civ-spouse       Craft-repair        Husband   \n",
      "30971          Never-married       Adm-clerical  Not-in-family   \n",
      "31340          Never-married    Farming-fishing  Not-in-family   \n",
      "33321     Married-civ-spouse       Craft-repair        Husband   \n",
      "34148     Married-civ-spouse    Exec-managerial        Husband   \n",
      "34836          Never-married      Other-service  Not-in-family   \n",
      "34979          Never-married    Farming-fishing  Not-in-family   \n",
      "35848     Married-civ-spouse     Prof-specialty        Husband   \n",
      "36767     Married-civ-spouse       Craft-repair        Husband   \n",
      "36848          Never-married    Protective-serv  Not-in-family   \n",
      "37599          Never-married       Adm-clerical      Own-child   \n",
      "37771          Never-married    Exec-managerial      Own-child   \n",
      "38156     Married-civ-spouse       Craft-repair        Husband   \n",
      "38255          Never-married       Craft-repair      Own-child   \n",
      "38530          Never-married              Sales      Own-child   \n",
      "38581          Never-married    Priv-house-serv  Not-in-family   \n",
      "38648          Never-married     Prof-specialty  Not-in-family   \n",
      "38775     Married-civ-spouse       Craft-repair        Husband   \n",
      "40948          Never-married              Sales      Own-child   \n",
      "41965          Never-married     Prof-specialty  Not-in-family   \n",
      "42153          Never-married  Handlers-cleaners  Not-in-family   \n",
      "42594          Never-married     Prof-specialty  Not-in-family   \n",
      "44201          Never-married       Adm-clerical      Own-child   \n",
      "44511          Never-married  Machine-op-inspct  Not-in-family   \n",
      "44803     Married-civ-spouse     Prof-specialty        Husband   \n",
      "45127     Married-civ-spouse       Craft-repair        Husband   \n",
      "45438     Married-civ-spouse  Machine-op-inspct        Husband   \n",
      "46626          Never-married              Sales  Not-in-family   \n",
      "46665          Never-married                  ?      Own-child   \n",
      "46979          Never-married                  ?  Not-in-family   \n",
      "47126               Divorced       Adm-clerical      Unmarried   \n",
      "48274          Never-married      Other-service      Own-child   \n",
      "48685               Divorced      Other-service  Not-in-family   \n",
      "\n",
      "                     race  gender  capital-gain  capital-loss  hours-per-week  \\\n",
      "864                 White    Male             0             0              35   \n",
      "11189               White    Male             0             0              40   \n",
      "11212               White  Female             0             0              40   \n",
      "13848               White    Male             0             0              40   \n",
      "15960               White    Male             0             0              10   \n",
      "18476               White    Male             0             0              40   \n",
      "19399               White    Male             0             0              36   \n",
      "19726               White    Male             0             0              40   \n",
      "20606               White    Male             0             0              40   \n",
      "21162               White    Male             0             0              40   \n",
      "21385  Asian-Pac-Islander    Male             0             0              35   \n",
      "24361               White    Male             0             0              50   \n",
      "25189               White    Male             0             0              50   \n",
      "25452               White  Female             0             0              10   \n",
      "25652  Asian-Pac-Islander    Male             0             0              40   \n",
      "26122               White    Male             0             0              35   \n",
      "26375               White    Male             0             0              40   \n",
      "27912               White  Female             0             0              10   \n",
      "29365               White  Female             0             0              40   \n",
      "30862               White    Male             0             0              40   \n",
      "30971               White  Female             0             0              40   \n",
      "31340               White    Male             0             0              50   \n",
      "33321               White    Male             0             0              40   \n",
      "34148               White    Male             0             0              45   \n",
      "34836               Black    Male             0             0              40   \n",
      "34979               White    Male             0             0              40   \n",
      "35848               White    Male             0             0              40   \n",
      "36767               White    Male             0             0              40   \n",
      "36848               White    Male             0             0              20   \n",
      "37599               White  Female             0             0              10   \n",
      "37771               Black    Male             0             0              30   \n",
      "38156               White    Male             0             0              40   \n",
      "38255               White    Male             0             0              48   \n",
      "38530               White  Female             0             0              25   \n",
      "38581               White  Female             0             0              40   \n",
      "38648               White  Female             0             0              45   \n",
      "38775               White    Male             0             0              40   \n",
      "40948               White  Female             0             0              20   \n",
      "41965               White    Male             0             0              40   \n",
      "42153               White    Male             0             0              55   \n",
      "42594               White    Male             0             0              50   \n",
      "44201               White  Female             0             0              40   \n",
      "44511               White  Female             0             0              40   \n",
      "44803               White    Male             0             0              40   \n",
      "45127               White    Male             0             0              40   \n",
      "45438               White    Male             0             0              48   \n",
      "46626               White  Female             0             0              40   \n",
      "46665               White  Female             0             0              40   \n",
      "46979               White    Male             0             0              40   \n",
      "47126               White  Female             0             0              40   \n",
      "48274               White    Male             0             0              14   \n",
      "48685               White  Female             0             0              40   \n",
      "\n",
      "      native-country income  \n",
      "864    United-States  <=50K  \n",
      "11189  United-States  <=50K  \n",
      "11212  United-States  <=50K  \n",
      "13848  United-States  <=50K  \n",
      "15960  United-States  <=50K  \n",
      "18476  United-States  <=50K  \n",
      "19399         Mexico  <=50K  \n",
      "19726  United-States   >50K  \n",
      "20606         Mexico  <=50K  \n",
      "21162         Mexico  <=50K  \n",
      "21385  United-States  <=50K  \n",
      "24361         Mexico  <=50K  \n",
      "25189  United-States  <=50K  \n",
      "25452  United-States  <=50K  \n",
      "25652    Philippines  <=50K  \n",
      "26122         Mexico  <=50K  \n",
      "26375  United-States  <=50K  \n",
      "27912  United-States  <=50K  \n",
      "29365      Guatemala  <=50K  \n",
      "30862  United-States  <=50K  \n",
      "30971  United-States  <=50K  \n",
      "31340         Mexico  <=50K  \n",
      "33321  United-States  <=50K  \n",
      "34148  United-States   >50K  \n",
      "34836              ?  <=50K  \n",
      "34979  United-States  <=50K  \n",
      "35848  United-States   >50K  \n",
      "36767  United-States   >50K  \n",
      "36848  United-States  <=50K  \n",
      "37599  United-States  <=50K  \n",
      "37771  United-States  <=50K  \n",
      "38156  United-States  <=50K  \n",
      "38255  United-States  <=50K  \n",
      "38530  United-States  <=50K  \n",
      "38581      Guatemala  <=50K  \n",
      "38648         Mexico  <=50K  \n",
      "38775  United-States  <=50K  \n",
      "40948  United-States  <=50K  \n",
      "41965  United-States  <=50K  \n",
      "42153         Mexico  <=50K  \n",
      "42594  United-States  <=50K  \n",
      "44201  United-States  <=50K  \n",
      "44511  United-States  <=50K  \n",
      "44803  United-States   >50K  \n",
      "45127  United-States  <=50K  \n",
      "45438  United-States   >50K  \n",
      "46626  United-States  <=50K  \n",
      "46665  United-States  <=50K  \n",
      "46979  United-States  <=50K  \n",
      "47126  United-States  <=50K  \n",
      "48274  United-States  <=50K  \n",
      "48685  United-States  <=50K  \n"
     ]
    }
   ],
   "source": [
    "duplicados = data[data.duplicated(keep='first')]\n",
    "print(duplicados)"
   ]
  },
  {
   "cell_type": "code",
   "execution_count": 36,
   "id": "6bcc01a8",
   "metadata": {},
   "outputs": [],
   "source": [
    "data.drop_duplicates(keep='first', inplace=True)"
   ]
  },
  {
   "cell_type": "markdown",
   "id": "d97b18d0",
   "metadata": {},
   "source": [
    "Agora, vamos retirar os outiliers para garantir uma melhor generalização dos dados:"
   ]
  },
  {
   "cell_type": "code",
   "execution_count": 37,
   "id": "c2768437",
   "metadata": {
    "scrolled": true
   },
   "outputs": [],
   "source": [
    "import numpy as np\n",
    "\n",
    "def exclui_outliers(DataFrame, col_name):\n",
    "    intervalo = 2.7*DataFrame[col_name].std()\n",
    "    media = DataFrame[col_name].mean()\n",
    "    DataFrame.loc[data[col_name] < (media - intervalo), col_name] = np.nan\n",
    "    DataFrame.loc[data[col_name] > (media + intervalo), col_name] = np.nan\n",
    "    \n",
    "num_cols = ['age', 'fnlwgt', 'educational-num', 'capital-gain', 'capital-loss', 'hours-per-week']\n",
    "\n",
    "for col in num_cols:\n",
    "    exclui_outliers(data, col)"
   ]
  },
  {
   "cell_type": "markdown",
   "id": "9aa7ef49",
   "metadata": {},
   "source": [
    "Checando as colunas, podemos observar a quantidade de instâncias '?' presentes. Especificamente, nos atributos 'workclass', 'occupation' e 'native-country':"
   ]
  },
  {
   "cell_type": "code",
   "execution_count": 38,
   "id": "acfb1c4a",
   "metadata": {},
   "outputs": [
    {
     "name": "stdout",
     "output_type": "stream",
     "text": [
      "2795\n",
      "2805\n",
      "856\n"
     ]
    }
   ],
   "source": [
    "print(np.count_nonzero(data['workclass'] == \"?\"))\n",
    "print(np.count_nonzero(data['occupation'] == \"?\"))\n",
    "print(np.count_nonzero(data['native-country'] == \"?\"))"
   ]
  },
  {
   "cell_type": "markdown",
   "id": "e9c53793",
   "metadata": {},
   "source": [
    "Como não são muitos dados (inclusive, é possível verificar que a maioria dos '?' em 'workclass' também é '?' em 'occupation'), é possivel excluir as instâncias que possuem esses dados faltantes sem prejudicar muito a análise em geral:"
   ]
  },
  {
   "cell_type": "code",
   "execution_count": 39,
   "id": "916e5639",
   "metadata": {},
   "outputs": [
    {
     "name": "stdout",
     "output_type": "stream",
     "text": [
      "(48790, 15)\n"
     ]
    },
    {
     "data": {
      "text/plain": [
       "(45175, 15)"
      ]
     },
     "execution_count": 39,
     "metadata": {},
     "output_type": "execute_result"
    }
   ],
   "source": [
    "print(data.shape)\n",
    "data = data.loc[data[\"workclass\"] != '?']\n",
    "data = data.loc[data[\"occupation\"] != '?']\n",
    "data = data.loc[data[\"native-country\"] != '?']\n",
    "data.shape"
   ]
  },
  {
   "cell_type": "markdown",
   "id": "608c36dd",
   "metadata": {},
   "source": [
    "# 2) Análise dos Dados"
   ]
  },
  {
   "cell_type": "markdown",
   "id": "73e02e99",
   "metadata": {},
   "source": [
    "Agora, precisamos visualizar os dados, para entender relações entre atributos, distribuições e subdivisões internas. Podemos usar histogramas para visualizar as classes numéricas e a matriz de correlação para descobrir suas correlações:"
   ]
  },
  {
   "cell_type": "code",
   "execution_count": 40,
   "id": "a0506143",
   "metadata": {
    "scrolled": false
   },
   "outputs": [
    {
     "data": {
      "image/png": "[encoded data removed]",
      "text/plain": [
       "<Figure size 1440x1080 with 6 Axes>"
      ]
     },
     "metadata": {
      "needs_background": "light"
     },
     "output_type": "display_data"
    }
   ],
   "source": [
    "import matplotlib.pyplot as plt\n",
    "\n",
    "data.hist(bins=100, figsize=(20, 15))\n",
    "plt.show()"
   ]
  },
  {
   "cell_type": "code",
   "execution_count": 41,
   "id": "a002b765",
   "metadata": {
    "scrolled": false
   },
   "outputs": [
    {
     "data": {
      "text/plain": [
       "<AxesSubplot:>"
      ]
     },
     "execution_count": 41,
     "metadata": {},
     "output_type": "execute_result"
    },
    {
     "data": {
      "image/png": "[encoded data removed]",
      "text/plain": [
       "<Figure size 432x288 with 2 Axes>"
      ]
     },
     "metadata": {
      "needs_background": "light"
     },
     "output_type": "display_data"
    }
   ],
   "source": [
    "import seaborn as sns\n",
    "\n",
    "sns.heatmap(data.corr(), annot=True, vmin=-1, vmax=1)"
   ]
  },
  {
   "cell_type": "markdown",
   "id": "5c098bfa",
   "metadata": {},
   "source": [
    "Algumas características desses dados que podemos observar graças aos histogramas são que a maioria das instâncias possuem entre 20 e 50 anos, entre 9 e 10 anos de educação formal, capital gain e capital loss nulos, e trabalham 40 horas por semana.\n",
    "\n",
    "Através da matriz de correlação, vemos que todos esses dados estão fracamente correlacionados entre sí.\n",
    "\n",
    "Vamos agora analisar algumas subdivisões internas dos dados, baseadas nos dados categóricos, de modo a entender melhor a representação de cada subpopulação:"
   ]
  },
  {
   "cell_type": "code",
   "execution_count": 42,
   "id": "ce277e7e",
   "metadata": {
    "scrolled": false
   },
   "outputs": [
    {
     "data": {
      "text/plain": [
       "<AxesSubplot:xlabel='income', ylabel='count'>"
      ]
     },
     "execution_count": 42,
     "metadata": {},
     "output_type": "execute_result"
    },
    {
     "data": {
      "image/png": "[encoded data removed]",
      "text/plain": [
       "<Figure size 864x432 with 2 Axes>"
      ]
     },
     "metadata": {
      "needs_background": "light"
     },
     "output_type": "display_data"
    }
   ],
   "source": [
    "plt.figure(figsize=(12, 6))\n",
    "plt.subplot(121)\n",
    "sns.countplot(x=data['gender'])\n",
    "plt.subplot(122)\n",
    "sns.countplot(x=data['income'])"
   ]
  },
  {
   "cell_type": "code",
   "execution_count": 43,
   "id": "397cae20",
   "metadata": {
    "scrolled": false
   },
   "outputs": [
    {
     "data": {
      "text/plain": [
       "<AxesSubplot:xlabel='race', ylabel='count'>"
      ]
     },
     "execution_count": 43,
     "metadata": {},
     "output_type": "execute_result"
    },
    {
     "data": {
      "image/png": "[encoded data removed]",
      "text/plain": [
       "<Figure size 864x864 with 3 Axes>"
      ]
     },
     "metadata": {
      "needs_background": "light"
     },
     "output_type": "display_data"
    }
   ],
   "source": [
    "plt.figure(figsize=(12, 12))\n",
    "plt.subplot(311)\n",
    "sns.countplot(x=data['workclass'])\n",
    "plt.subplot(312)\n",
    "sns.countplot(x=data['relationship'])\n",
    "plt.subplot(313)\n",
    "sns.countplot(x=data['race'])"
   ]
  },
  {
   "cell_type": "markdown",
   "id": "72d204ad",
   "metadata": {},
   "source": [
    "Podemos ver que 2/3 das instâncias são masculinas e apenas 1/3 femininas, e vemos também que aproximadamente 3/4 das instâncias ganham menos que 50K. Também observamos a grande maioria sendo trabalhadores privados, uma grande maioria sendo brancos, e também uma proporção maior de 'maridos'. É importante saber o quão bem ou mal representada é cada subcategoria dos dados, para tentarmos minimizar as distorções causadas por essas diferenças.\n",
    "\n",
    "A análise que nos importa é em relação ao atributo 'income'. Desse modo, vamos visualizar mais a relação deste com outros atributos:"
   ]
  },
  {
   "cell_type": "code",
   "execution_count": 44,
   "id": "479f3eda",
   "metadata": {
    "scrolled": false
   },
   "outputs": [
    {
     "data": {
      "text/plain": [
       "<AxesSubplot:xlabel='hours-per-week', ylabel='income'>"
      ]
     },
     "execution_count": 44,
     "metadata": {},
     "output_type": "execute_result"
    },
    {
     "data": {
      "image/png": "[encoded data removed]",
      "text/plain": [
       "<Figure size 864x864 with 3 Axes>"
      ]
     },
     "metadata": {
      "needs_background": "light"
     },
     "output_type": "display_data"
    }
   ],
   "source": [
    "plt.figure(figsize=(12, 12))\n",
    "plt.subplot(311)\n",
    "sns.violinplot(x='age', y='income', data=data)\n",
    "plt.subplot(312)\n",
    "sns.violinplot(x='educational-num', y='income', data=data)\n",
    "plt.subplot(313)\n",
    "sns.violinplot(y='income', x='hours-per-week', data=data)"
   ]
  },
  {
   "cell_type": "markdown",
   "id": "38f7f933",
   "metadata": {},
   "source": [
    "Percebemos que há uma tendência maior de que instâncias com idade maior ganhem mais de 50K, enquanto aquelas com menos idade (em especial, menos de 20 ou 30 anos), menos de 50K.\n",
    "\n",
    "Também vemos que instâncias com mais anos de educação também tem uma tendência um pouco maior de ganhar mais de 50K do que aquelas com menos anos de estudo.\n",
    "\n",
    "Notamos, por último, que instâncias com mais horas de trabalho por semana também possuem uma tímida tendência a ganharem mais de 50K do que aquelas com menos horas."
   ]
  },
  {
   "cell_type": "markdown",
   "id": "8bcd75c5",
   "metadata": {},
   "source": [
    "Com tudo isso em mente, podemos lidar melhor com nosso dados. Poderíamos, por exemplo, focar mais nos dados de anos de educação, idade e horas por semana para treinar o modelo, descartando outras colunas menos correlatas com a renda. A super-representação de instâncias masculinas, brancas, do setor privado e 'maridos', que observamos, pode gerar distorções nas predições, em razão da subrepresentação de outras classes. Uma forma de lidar com isso seria estratificando os dados, de modo que cada classe seja proporcionalmente melhor representada.\n",
    "\n",
    "Para manter a análise simples, vamos estretificar apenas por gênero, para que a população feminina seja melhor representada. A escolha é motivada pela conhecida diferença de remuneração entre homens e mulheres, com mulheres recebendo menores salários para desempenhar as mesmas funções que homens, então é importante que elas não sejam representadas de forma desproporcional. Outra escolha interessante seria estratificar por 'raça/etnia', pois também é sabido que, por exemplo, populações negras sofrem mais com situações de vulnerabilidade econômica, empregos subvalorizados, violência social, racismo estrutural, entre outros problemas sociais que afetam a população negra como um todo (incluindo sua renda)."
   ]
  },
  {
   "cell_type": "markdown",
   "id": "944e2c70",
   "metadata": {},
   "source": [
    "# 3) Modelos de Predição"
   ]
  },
  {
   "cell_type": "markdown",
   "id": "ce495e3a",
   "metadata": {},
   "source": [
    "Primeiramente, precisamos separar os dados entre dados de treino e dados de teste. Visando uma melhor representação proporcional de gênero, vamos estratificar os dados com base em cada um deles e depois separar os grupos em test set e train set:"
   ]
  },
  {
   "cell_type": "code",
   "execution_count": 45,
   "id": "e7b83f39",
   "metadata": {},
   "outputs": [],
   "source": [
    "data = data.replace(['Male'], 0)\n",
    "data = data.replace(['Female'], 1)\n",
    "\n",
    "numerical_col = ['gender']\n",
    "\n",
    "def to_type(DataFrame, columns, type):\n",
    "    for col in columns:\n",
    "        DataFrame[col] = DataFrame[col].astype(type)\n",
    "        \n",
    "to_type(data, numerical_col, float)"
   ]
  },
  {
   "cell_type": "code",
   "execution_count": 46,
   "id": "935ec927",
   "metadata": {
    "scrolled": true
   },
   "outputs": [
    {
     "data": {
      "text/plain": [
       "<AxesSubplot:>"
      ]
     },
     "execution_count": 46,
     "metadata": {},
     "output_type": "execute_result"
    },
    {
     "data": {
      "image/png": "[encoded data removed]",
      "text/plain": [
       "<Figure size 432x288 with 1 Axes>"
      ]
     },
     "metadata": {
      "needs_background": "light"
     },
     "output_type": "display_data"
    }
   ],
   "source": [
    "data['gender_cat'] = pd.cut(data['gender'], bins=[-1.0, 0.9, np.inf], labels=[1, 2])\n",
    "data['gender_cat'].hist()"
   ]
  },
  {
   "cell_type": "code",
   "execution_count": 47,
   "id": "4edfc153",
   "metadata": {
    "scrolled": true
   },
   "outputs": [],
   "source": [
    "from sklearn.model_selection import StratifiedShuffleSplit\n",
    "\n",
    "split = StratifiedShuffleSplit(n_splits=1, test_size=0.2, random_state=42)\n",
    "\n",
    "for train_index, test_index in split.split(data, data['gender_cat']):\n",
    "    strat_train_set = data.iloc[train_index]\n",
    "    strat_test_set = data.iloc[test_index]"
   ]
  },
  {
   "cell_type": "code",
   "execution_count": 48,
   "id": "a41ca178",
   "metadata": {},
   "outputs": [
    {
     "data": {
      "text/plain": [
       "1    0.675042\n",
       "2    0.324958\n",
       "Name: gender_cat, dtype: float64"
      ]
     },
     "execution_count": 48,
     "metadata": {},
     "output_type": "execute_result"
    }
   ],
   "source": [
    "strat_test_set['gender_cat'].value_counts() / len(strat_test_set)"
   ]
  },
  {
   "cell_type": "code",
   "execution_count": 49,
   "id": "cc1a833e",
   "metadata": {},
   "outputs": [
    {
     "data": {
      "text/plain": [
       "1    0.675042\n",
       "2    0.324958\n",
       "Name: gender_cat, dtype: float64"
      ]
     },
     "execution_count": 49,
     "metadata": {},
     "output_type": "execute_result"
    }
   ],
   "source": [
    "data['gender_cat'].value_counts() / len(data)"
   ]
  },
  {
   "cell_type": "markdown",
   "id": "8c6bb07e",
   "metadata": {},
   "source": [
    "Agora, para melhor visualizarmos os efeitos da estratificação, é possível observarmos a representação de cada categoria (1 - 'Male', 2 - 'Female') nos dados completos, comparando as proporções de cada uma no test set gerado com amostragem estratificada, e num test set com amostragem aleatória:"
   ]
  },
  {
   "cell_type": "code",
   "execution_count": 50,
   "id": "2246e10d",
   "metadata": {},
   "outputs": [
    {
     "data": {
      "text/html": [
       "<div>\n",
       "<style scoped>\n",
       "    .dataframe tbody tr th:only-of-type {\n",
       "        vertical-align: middle;\n",
       "    }\n",
       "\n",
       "    .dataframe tbody tr th {\n",
       "        vertical-align: top;\n",
       "    }\n",
       "\n",
       "    .dataframe thead th {\n",
       "        text-align: right;\n",
       "    }\n",
       "</style>\n",
       "<table border=\"1\" class=\"dataframe\">\n",
       "  <thead>\n",
       "    <tr style=\"text-align: right;\">\n",
       "      <th></th>\n",
       "      <th>Overall</th>\n",
       "      <th>Stratified</th>\n",
       "      <th>Random</th>\n",
       "      <th>Rand. %error</th>\n",
       "      <th>Strat. %error</th>\n",
       "    </tr>\n",
       "  </thead>\n",
       "  <tbody>\n",
       "    <tr>\n",
       "      <th>1</th>\n",
       "      <td>0.675042</td>\n",
       "      <td>0.675042</td>\n",
       "      <td>0.673492</td>\n",
       "      <td>-0.229546</td>\n",
       "      <td>0.0</td>\n",
       "    </tr>\n",
       "    <tr>\n",
       "      <th>2</th>\n",
       "      <td>0.324958</td>\n",
       "      <td>0.324958</td>\n",
       "      <td>0.326508</td>\n",
       "      <td>0.476839</td>\n",
       "      <td>0.0</td>\n",
       "    </tr>\n",
       "  </tbody>\n",
       "</table>\n",
       "</div>"
      ],
      "text/plain": [
       "    Overall  Stratified    Random  Rand. %error  Strat. %error\n",
       "1  0.675042    0.675042  0.673492     -0.229546            0.0\n",
       "2  0.324958    0.324958  0.326508      0.476839            0.0"
      ]
     },
     "execution_count": 50,
     "metadata": {},
     "output_type": "execute_result"
    }
   ],
   "source": [
    "from sklearn.model_selection import train_test_split\n",
    "\n",
    "def gender_cat_proportions(data):\n",
    "    return data['gender_cat'].value_counts() / len(data)\n",
    "\n",
    "train_set, test_set = train_test_split(data, test_size=0.2, random_state=42)\n",
    "\n",
    "compare_proportions = pd.DataFrame({\n",
    "    \"Overall\": gender_cat_proportions(data),\n",
    "    \"Stratified\": gender_cat_proportions(strat_test_set),\n",
    "    \"Random\": gender_cat_proportions(test_set),\n",
    "}).sort_index()\n",
    "\n",
    "compare_proportions[\"Rand. %error\"] = 100 * compare_proportions[\"Random\"] / compare_proportions[\"Overall\"] - 100\n",
    "compare_proportions[\"Strat. %error\"] = 100 * compare_proportions[\"Stratified\"] / compare_proportions[\"Overall\"] - 100\n",
    "\n",
    "compare_proportions"
   ]
  },
  {
   "cell_type": "markdown",
   "id": "ee4e80a9",
   "metadata": {},
   "source": [
    "O test set gerado com amostragem estratificada tem proporções de gênero mais próximas àquelas do dataset completo (inclusive, com erro próximo a zero), enquanto as proporções do test set gerado de forma aleatória possuem uma distorção."
   ]
  },
  {
   "cell_type": "code",
   "execution_count": 51,
   "id": "2d4e1d89",
   "metadata": {},
   "outputs": [],
   "source": [
    "data = strat_train_set.drop('income', axis=1)\n",
    "data_labels = strat_train_set['income'].copy()"
   ]
  },
  {
   "cell_type": "code",
   "execution_count": 52,
   "id": "e30cc2c9",
   "metadata": {},
   "outputs": [],
   "source": [
    "for set_ in (strat_train_set, strat_test_set):\n",
    "    set_.drop('gender_cat', axis=1, inplace=True)"
   ]
  },
  {
   "cell_type": "markdown",
   "id": "ad307bae",
   "metadata": {},
   "source": [
    "Vamos agora lidar com os dados numéricos e categóricos usando as Pipelines. Assim, preparamos os dados preenchendo quaisquer dados possivelmente faltantes, escalando os dados para a escala certa para ser usada pelos modelos, etc:"
   ]
  },
  {
   "cell_type": "code",
   "execution_count": 53,
   "id": "b0fe8541",
   "metadata": {},
   "outputs": [],
   "source": [
    "from sklearn.pipeline import Pipeline\n",
    "from sklearn.impute import SimpleImputer\n",
    "from sklearn.preprocessing import StandardScaler, OneHotEncoder\n",
    "from sklearn.compose import ColumnTransformer\n",
    "\n",
    "num_pipeline = Pipeline([\n",
    "    (\"imputer\", SimpleImputer(strategy=\"median\")),\n",
    "    (\"scaler\", StandardScaler()),\n",
    "])\n",
    "\n",
    "cat_pipeline = Pipeline([\n",
    "    (\"imputer\", SimpleImputer(strategy=\"most_frequent\")),\n",
    "    (\"cat_encoder\", OneHotEncoder(sparse=False)),\n",
    "])\n",
    "\n",
    "num_attributes = [\"age\", \"fnlwgt\", \"educational-num\", \"capital-gain\", \"capital-loss\", \"hours-per-week\"]\n",
    "cat_attributes = [\"workclass\", \"race\", \"gender\"]\n",
    "\n",
    "preprocess_pipeline = ColumnTransformer([\n",
    "    (\"num\", num_pipeline, num_attributes),\n",
    "    (\"cat\", cat_pipeline, cat_attributes),\n",
    "])\n",
    "\n",
    "x_train = preprocess_pipeline.fit_transform(strat_train_set[num_attributes + cat_attributes])\n",
    "y_train_all = strat_train_set['income']\n",
    "\n",
    "y_train = (y_train_all == '>50K')"
   ]
  },
  {
   "cell_type": "markdown",
   "id": "cc50bd10",
   "metadata": {},
   "source": [
    "Agora que os dados estão preparados, podemos treinar os classificadores para obter previsões baseados neles. Vamos usar apenas três classificadores, que são bem conhecidos e bem usados em diversos tipos de problema de análise de dados:"
   ]
  },
  {
   "cell_type": "code",
   "execution_count": 54,
   "id": "762fa06f",
   "metadata": {},
   "outputs": [
    {
     "data": {
      "text/plain": [
       "RandomForestClassifier(random_state=42)"
      ]
     },
     "execution_count": 54,
     "metadata": {},
     "output_type": "execute_result"
    }
   ],
   "source": [
    "from sklearn.ensemble import RandomForestClassifier\n",
    "\n",
    "for_clf = RandomForestClassifier(n_estimators=100, random_state=42)\n",
    "for_clf.fit(x_train, y_train)"
   ]
  },
  {
   "cell_type": "code",
   "execution_count": 55,
   "id": "71a72c3d",
   "metadata": {},
   "outputs": [
    {
     "data": {
      "text/plain": [
       "SVC(gamma='auto', random_state=42)"
      ]
     },
     "execution_count": 55,
     "metadata": {},
     "output_type": "execute_result"
    }
   ],
   "source": [
    "from sklearn.svm import SVC\n",
    "\n",
    "svm_clf = SVC(gamma=\"auto\", random_state=42)\n",
    "svm_clf.fit(x_train, y_train)"
   ]
  },
  {
   "cell_type": "code",
   "execution_count": 56,
   "id": "0fefe8c5",
   "metadata": {},
   "outputs": [
    {
     "data": {
      "text/plain": [
       "SGDClassifier(loss='log', random_state=42)"
      ]
     },
     "execution_count": 56,
     "metadata": {},
     "output_type": "execute_result"
    }
   ],
   "source": [
    "from sklearn.linear_model import SGDClassifier\n",
    "\n",
    "sgd_clf = SGDClassifier(loss='log', random_state=42)\n",
    "sgd_clf.fit(x_train, y_train)"
   ]
  },
  {
   "cell_type": "markdown",
   "id": "66277700",
   "metadata": {},
   "source": [
    "Agora, vamos avaliar o desempenho de cada um deles de acordo com a acurácia de cada um:"
   ]
  },
  {
   "cell_type": "code",
   "execution_count": 57,
   "id": "db50c63d",
   "metadata": {},
   "outputs": [
    {
     "name": "stdout",
     "output_type": "stream",
     "text": [
      "random forest:  0.8044272274488102\n",
      "support vector machine:  0.8216657443276147\n",
      "stratified gradient descent:  0.8134753735473161\n"
     ]
    }
   ],
   "source": [
    "from sklearn.model_selection import cross_val_score\n",
    "\n",
    "for_scores = cross_val_score(for_clf, x_train, y_train, cv=10, scoring=\"accuracy\")\n",
    "print('random forest: ', for_scores.mean())\n",
    "\n",
    "svm_scores = cross_val_score(svm_clf, x_train, y_train, cv=10, scoring=\"accuracy\")\n",
    "print('support vector machine: ', svm_scores.mean())\n",
    "\n",
    "sgd_scores = cross_val_score(sgd_clf, x_train, y_train, cv=10, scoring=\"accuracy\")\n",
    "print('stratified gradient descent: ', sgd_scores.mean())"
   ]
  },
  {
   "cell_type": "markdown",
   "id": "06e58f8b",
   "metadata": {},
   "source": [
    "Aparentemente a acurácia da SVM parece melhor que dos outros modelos. Para observar qual modelo poderia generalizar melhor para os dados de teste, podemos visualizar os vários valores de acurácia obtidos com boxplot:"
   ]
  },
  {
   "cell_type": "code",
   "execution_count": 58,
   "id": "7ac2b761",
   "metadata": {},
   "outputs": [
    {
     "data": {
      "image/png": "[encoded data removed]",
      "text/plain": [
       "<Figure size 576x288 with 1 Axes>"
      ]
     },
     "metadata": {
      "needs_background": "light"
     },
     "output_type": "display_data"
    }
   ],
   "source": [
    "plt.figure(figsize=(8, 4))\n",
    "plt.plot([1]*10, svm_scores, \".\")\n",
    "plt.plot([2]*10, for_scores, \".\")\n",
    "plt.plot([3]*10, sgd_scores, \".\")\n",
    "plt.boxplot([svm_scores, for_scores, sgd_scores], labels=(\"svm\", \"for\", \"sgd\"))\n",
    "plt.ylabel(\"accuracy\", fontsize=14)\n",
    "plt.show()"
   ]
  },
  {
   "cell_type": "markdown",
   "id": "e772fab6",
   "metadata": {},
   "source": [
    "Aparantemente, SVM generalizaria melhor para os dados de teste, pois as estimativas desse modelo são, no geral, mais acuradas em relação aos outros dois.\n",
    "\n",
    "Como SVM é o modelo aparentemente mais promissor, podemos, através do GridSearchCV, tentar reajustar os seus parâmetros com o intuito de obter previsões mais acuradas. Podemos ver os parâmetros pelo método svm_clf.get_params():"
   ]
  },
  {
   "cell_type": "code",
   "execution_count": 59,
   "id": "42f3e352",
   "metadata": {
    "scrolled": true
   },
   "outputs": [
    {
     "data": {
      "text/plain": [
       "{'C': 1.0,\n",
       " 'break_ties': False,\n",
       " 'cache_size': 200,\n",
       " 'class_weight': None,\n",
       " 'coef0': 0.0,\n",
       " 'decision_function_shape': 'ovr',\n",
       " 'degree': 3,\n",
       " 'gamma': 'auto',\n",
       " 'kernel': 'rbf',\n",
       " 'max_iter': -1,\n",
       " 'probability': False,\n",
       " 'random_state': 42,\n",
       " 'shrinking': True,\n",
       " 'tol': 0.001,\n",
       " 'verbose': False}"
      ]
     },
     "execution_count": 59,
     "metadata": {},
     "output_type": "execute_result"
    }
   ],
   "source": [
    "svm_clf.get_params()"
   ]
  },
  {
   "cell_type": "markdown",
   "id": "74f9e2c7",
   "metadata": {},
   "source": [
    "Cada linha representa um parâmetro diferente que o classificador svm usa para determinar as previsões. Podemos imaginar como se o svm estivesse procurando a maior 'rua possível' entre o grupo de quem ganha >50K e o que ganha menos de 50K. Pra isso, ele usa algumas instâncias específicas do dataset (os \"support vectors\"). O parâmetro C, por exemplo, diria qual a tolerância do svm em relação a instâncias dentro dessa rua. Se C for grande, a margem da rua permite menos instâncias dentro dela (e assim, menos instâncias sendo classificadas erroneamente). Se C for menor, permite que hajam mais instâncias dentro da rua (classificadas erroneamente), mas gerando uma separação maior entre os grupos.\n",
    "\n",
    "Para fins de simplicidade, vamos nos concentrar apenas nesse parâmetro C, apenas para demonstrar como é o processo de ajuste dos hiperparâmetros de um estimador. Testemos, então, vários valores desse parâmetro a fim de tentar otimizar a acurácia do classificador:"
   ]
  },
  {
   "cell_type": "code",
   "execution_count": 60,
   "id": "8da7013d",
   "metadata": {},
   "outputs": [
    {
     "data": {
      "text/plain": [
       "{'C': 10}"
      ]
     },
     "execution_count": 60,
     "metadata": {},
     "output_type": "execute_result"
    }
   ],
   "source": [
    "from sklearn.model_selection import GridSearchCV\n",
    "\n",
    "param_grid = [{'C':[1, 10, 100]}]\n",
    "\n",
    "grid_search = GridSearchCV(svm_clf, param_grid, cv=5, scoring=\"accuracy\", return_train_score=True)\n",
    "grid_search.fit(x_train, y_train)\n",
    "\n",
    "grid_search.best_params_"
   ]
  },
  {
   "cell_type": "markdown",
   "id": "0ce2d258",
   "metadata": {},
   "source": [
    "Se não fazemos ideia de quais valores colocar inicialmente, podemos começar colocando diferentes potências de dez e ir diminuindo os chutes ao redor do que obtiver o melhor resultado. Após algumas tentativas, vemos que o melhor valor de C para a acurácia é C=11:"
   ]
  },
  {
   "cell_type": "code",
   "execution_count": 61,
   "id": "c0c07431",
   "metadata": {},
   "outputs": [
    {
     "data": {
      "text/plain": [
       "{'C': 11}"
      ]
     },
     "execution_count": 61,
     "metadata": {},
     "output_type": "execute_result"
    }
   ],
   "source": [
    "param_grid = [{'C':[11, 12, 13]}]\n",
    "\n",
    "grid_search = GridSearchCV(svm_clf, param_grid, cv=5, scoring=\"accuracy\", return_train_score=True)\n",
    "grid_search.fit(x_train, y_train)\n",
    "\n",
    "grid_search.best_params_"
   ]
  },
  {
   "cell_type": "markdown",
   "id": "50d043f6",
   "metadata": {},
   "source": [
    "Agora, vamos ver qual o novo valor da acurácia para C=11:"
   ]
  },
  {
   "cell_type": "code",
   "execution_count": 62,
   "id": "754c6296",
   "metadata": {},
   "outputs": [
    {
     "name": "stdout",
     "output_type": "stream",
     "text": [
      "support vector machine:  0.8218594355285003\n"
     ]
    }
   ],
   "source": [
    "svm_clf = SVC(gamma=\"auto\", C=11, random_state=42)\n",
    "svm_clf.fit(x_train, y_train)\n",
    "\n",
    "svm_scores = cross_val_score(svm_clf, x_train, y_train, cv=10, scoring=\"accuracy\")\n",
    "print('support vector machine: ', svm_scores.mean())"
   ]
  },
  {
   "cell_type": "markdown",
   "id": "11c6c637",
   "metadata": {},
   "source": [
    "Conseguimos uma acurácia de aproximadamente 82.19%, parece bom! No entanto, em problemas de classificação, a acurácia não é a melhor forma de determinar o desempenho de um determinado modelo, pois a taxa de acerto pode simplesmente se dar por distorções nos dados, representação abundante de certa classe em detrimento de outras, entre outros fatores. Um classificador totalmente aleatório ainda poderia ter uma acurácia de 90% em prever a probabilidade de que um dígito qualquer de 0 a 9 não seja 8, por exemplo, simplesmente porque existem muito mais instâncias que não são 8 do que as que são.\n",
    "\n",
    "Uma alternativa é observar quantos falsos positivos (FP), falsos negativos (FN), positivos verdadeiros (TP) e negativos verdadeiros (TN) são obtidos por cada um dos modelos, pela confusion matrix:"
   ]
  },
  {
   "cell_type": "code",
   "execution_count": 63,
   "id": "febfc468",
   "metadata": {},
   "outputs": [
    {
     "name": "stdout",
     "output_type": "stream",
     "text": [
      "for: [[24483  2646]\n",
      " [ 4430  4581]]\n",
      "\n",
      "svm: [[26014  1115]\n",
      " [ 5323  3688]]\n",
      "\n",
      "sgd: [[24509  2620]\n",
      " [ 4245  4766]]\n"
     ]
    }
   ],
   "source": [
    "from sklearn.model_selection import cross_val_predict\n",
    "from sklearn.metrics import confusion_matrix\n",
    "\n",
    "y_predict_for = cross_val_predict(for_clf, x_train, y_train, cv=5)\n",
    "print('for:', confusion_matrix(y_train, y_predict_for))  \n",
    "\n",
    "print('')\n",
    "y_predict_svm = cross_val_predict(svm_clf, x_train, y_train, cv=5)\n",
    "print('svm:', confusion_matrix(y_train, y_predict_svm))\n",
    "\n",
    "print('')\n",
    "y_predict_sgd = cross_val_predict(sgd_clf, x_train, y_train, cv=5)\n",
    "print('sgd:', confusion_matrix(y_train, y_predict_sgd))"
   ]
  },
  {
   "cell_type": "markdown",
   "id": "71edfc41",
   "metadata": {},
   "source": [
    "No canto superior esquerdo, temos o número de TN, no superior direito, FP, no inferior esquerdo, FN, e no inferior direito, TP.\n",
    "\n",
    "Outra forma de avaliar classificadores é a determinação do precision score, do recall score, e do f1 score:"
   ]
  },
  {
   "cell_type": "code",
   "execution_count": 64,
   "id": "41274926",
   "metadata": {},
   "outputs": [
    {
     "name": "stdout",
     "output_type": "stream",
     "text": [
      "for: 0.6338729763387297 0.5083786483187216 0.5642320482818081\n",
      "svm: 0.7678534249427441 0.4092775496615248 0.5339510641378312\n",
      "sgd: 0.6452748443000271 0.5289091110864499 0.5813258522900531\n"
     ]
    }
   ],
   "source": [
    "from sklearn.metrics import precision_score, recall_score, f1_score\n",
    "\n",
    "precision_for = precision_score(y_train, y_predict_for)\n",
    "recall_for = recall_score(y_train, y_predict_for)\n",
    "f1_for = f1_score(y_train, y_predict_for)\n",
    "\n",
    "print('for:', precision_for, recall_for, f1_for)\n",
    "\n",
    "precision_svm = precision_score(y_train, y_predict_svm)\n",
    "recall_svm = recall_score(y_train, y_predict_svm)\n",
    "f1_svm = f1_score(y_train, y_predict_svm)\n",
    "\n",
    "print('svm:', precision_svm, recall_svm, f1_svm)\n",
    "\n",
    "precision_sgd = precision_score(y_train, y_predict_sgd)\n",
    "recall_sgd = recall_score(y_train, y_predict_sgd)\n",
    "f1_sgd = f1_score(y_train, y_predict_sgd)\n",
    "\n",
    "print('sgd:', precision_sgd, recall_sgd, f1_sgd)"
   ]
  },
  {
   "cell_type": "markdown",
   "id": "e95703bf",
   "metadata": {},
   "source": [
    "Precision tem relação a quantidade de vezes que o classificador classifica uma instância como positiva, e ele acerta. Recall, por sua vez, tem a ver com quantas vezes uma instância que é positiva está inclusa nas que o modelo classifica como positivas. Por exemplo, se treinarmos um modelo para detectar videos que são seguros para crianças, seria melhor um classificador que rejeite muitos videos bons (baixo recall), mas mantenha apenas os vídeos seguros (alta precision). Em contrapartida, um sistema que detecta incêndios teria preferivelmente um recall alto, mesmo ao custo de uma precision baixa, pois mesmo que alguns falsos positivos sejam gerados, a chance de um incêndio real ser identificado é muito maior. Podemos calcular essas métricas: Precision = TP / (TP + FP), Recall = TP / (TP + FN), e f1 é a média harmônica entre Precision e Recall.\n",
    "\n",
    "Agora podemos entender melhor que, mesmo com uma acurácia maior que 82%, a svm tem uma precisão de aproximadamente 76.79% e um recall de apenas 40.93%. Ou seja, a precisão dela é de 76%, entretanto ele deixa quase 60% das instâncias que seriam verdadeiras (que ganham mais de 50K, nesse caso) passarem.\n",
    "\n",
    "O problema com relação a precision e recall é que, no geral, quanto maior o recall menor a precisão, e quanto maior a precisão, menor o recall. Para lidar com esse dilema, o chamado \"precision/recall trade-off\", podemos usar a decision_function. O classificador determina para dada instância uma pontuação, baseada nessa decision_function. Se essa pontuação for menor que um certo threshold, a instância é classificada como negativa. Se for maior, é positiva. Quanto maior o threshold, maior precision e menor recall. Quanto menor o threshold, menor precision e maior recall.\n",
    "\n",
    "Para decidir qual threshold usar, podemos computar precision e recall para todos os valores do threshold, usando a precision_recall_curve(). Assim, para a svm:"
   ]
  },
  {
   "cell_type": "code",
   "execution_count": 65,
   "id": "89a8c939",
   "metadata": {},
   "outputs": [
    {
     "data": {
      "image/png": "[encoded data removed]",
      "text/plain": [
       "<Figure size 432x288 with 1 Axes>"
      ]
     },
     "metadata": {
      "needs_background": "light"
     },
     "output_type": "display_data"
    }
   ],
   "source": [
    "from sklearn.metrics import precision_recall_curve\n",
    "import matplotlib.pyplot as plt\n",
    "\n",
    "y_scores_svm = cross_val_predict(svm_clf, x_train, y_train, cv=5, method=\"decision_function\")\n",
    "\n",
    "precisions, recalls, thresholds = precision_recall_curve(y_train, y_scores_svm)\n",
    "\n",
    "def precision_recall_vs_threshold(precisions, recalls, thresholds):\n",
    "    plt.plot(thresholds, precisions[:-1], \"b--\", label=\"precision\")\n",
    "    plt.plot(thresholds, recalls[:-1], \"g-\", label=\"recall\")\n",
    "    \n",
    "precision_recall_vs_threshold(precisions, recalls, thresholds)\n",
    "plt.grid(True)\n",
    "plt.show()"
   ]
  },
  {
   "cell_type": "markdown",
   "id": "73d031a8",
   "metadata": {},
   "source": [
    "A precision é dada pela curva azul tracejada. O recall, pela curva verde. O threshold é dado pelo eixo x (horizontal). Observe como quanto maior o threshold, maior a precision e menor o recall. Se quisermos, por exemplo, que a precisão seja de 90%, podemos procurar pelo menor threshold que nos dá uma precisão de pelo menos 90%, e usar esse valor como o valor do nosso threshold. Podemos também fazer com que precision seja igual ao recall, por exemplo:"
   ]
  },
  {
   "cell_type": "code",
   "execution_count": 66,
   "id": "07b4b600",
   "metadata": {
    "scrolled": true
   },
   "outputs": [
    {
     "name": "stdout",
     "output_type": "stream",
     "text": [
      "1.0398598319505834\n",
      "0.9002169197396963\n",
      "0.23027410942181778\n"
     ]
    }
   ],
   "source": [
    "threshold_90_precision = thresholds[np.argmax(precisions >= 0.90)]\n",
    "print(threshold_90_precision)\n",
    "\n",
    "y_predict_90 = (y_scores_svm >= threshold_90_precision)\n",
    "\n",
    "print(precision_score(y_train, y_predict_90))\n",
    "print(recall_score(y_train, y_predict_90))"
   ]
  },
  {
   "cell_type": "code",
   "execution_count": 67,
   "id": "241566e5",
   "metadata": {},
   "outputs": [
    {
     "name": "stdout",
     "output_type": "stream",
     "text": [
      "-0.8346530976715534\n",
      "0.6116968150038842\n",
      "0.6116968150038842\n"
     ]
    }
   ],
   "source": [
    "threshold_precision_recall = thresholds[np.argmax(precisions >= recalls)]\n",
    "print(threshold_precision_recall)\n",
    "\n",
    "y_precision_recall = (y_scores_svm >= threshold_precision_recall)\n",
    "\n",
    "print(precision_score(y_train, y_precision_recall))\n",
    "print(recall_score(y_train, y_precision_recall))"
   ]
  },
  {
   "cell_type": "markdown",
   "id": "3f5b7b8c",
   "metadata": {},
   "source": [
    "Outra forma de avaliar os classificadores é a Receiver Operating Characteristic (ROC) curve. Diferente da Precision/Recall curve, a ROC curve plota a taxa de positivos verdadeiros vs a taxa de falsos positivos:"
   ]
  },
  {
   "cell_type": "code",
   "execution_count": 68,
   "id": "540dd9d2",
   "metadata": {},
   "outputs": [
    {
     "data": {
      "image/png": "[encoded data removed]",
      "text/plain": [
       "<Figure size 432x288 with 1 Axes>"
      ]
     },
     "metadata": {
      "needs_background": "light"
     },
     "output_type": "display_data"
    }
   ],
   "source": [
    "from sklearn.metrics import roc_curve, roc_auc_score\n",
    "\n",
    "fpr_svm, tpr_svm, thresholds_smv = roc_curve(y_train, y_scores_svm)\n",
    "\n",
    "y_probas_for = cross_val_predict(for_clf, x_train, y_train, cv=5, method=\"predict_proba\")\n",
    "y_scores_for = y_probas_for[:, 1]\n",
    "\n",
    "fpr_for, tpr_for, thresholds_for = roc_curve(y_train, y_scores_for)\n",
    "\n",
    "y_scores_sgd = cross_val_predict(sgd_clf, x_train, y_train, cv=5, method=\"decision_function\")\n",
    "\n",
    "fpr_sgd, tpr_sgd, thresholds_sgd = roc_curve(y_train, y_scores_sgd)\n",
    "\n",
    "plt.plot(fpr_svm, tpr_svm, \"b:\", label=\"svm_clf\")\n",
    "plt.plot(fpr_for, tpr_for, label=\"for_clf\")\n",
    "plt.plot(fpr_sgd, tpr_sgd, \"g--\", label=\"sgd_clf\")\n",
    "plt.plot([0, 1], [0, 1], \"k--\")\n",
    "plt.legend(loc=\"lower right\")\n",
    "plt.grid(True)\n",
    "plt.show()"
   ]
  },
  {
   "cell_type": "markdown",
   "id": "8b232fdb",
   "metadata": {},
   "source": [
    "Também podemos comparar a ROC area under curve (AUC), que é a área sob a curva ROC:"
   ]
  },
  {
   "cell_type": "code",
   "execution_count": 69,
   "id": "754eca25",
   "metadata": {},
   "outputs": [
    {
     "name": "stdout",
     "output_type": "stream",
     "text": [
      "svm_clf: 0.8198638236966438\n",
      "for_clf: 0.8243713591579794\n",
      "sgd_clf: 0.8317164494283609\n"
     ]
    }
   ],
   "source": [
    "print(\"svm_clf:\", roc_auc_score(y_train, y_scores_svm))\n",
    "print(\"for_clf:\", roc_auc_score(y_train, y_scores_for))\n",
    "print(\"sgd_clf:\", roc_auc_score(y_train, y_scores_sgd))"
   ]
  },
  {
   "cell_type": "markdown",
   "id": "46661eeb",
   "metadata": {},
   "source": [
    "A linha tracejada no meio indica a ROC curve para um classificador totalmente aleatório. Quanto melhor o classificador, mais longe dessa linha ele se localiza e maior o valor da ROC AUC. Um classificador perfeito teria ROC AUC igual a 1.\n",
    "\n",
    "Vemos que nesse caso a svm, mesmo possuindo acurácia maior que os outros dois classificadores, possui um ROC AUC score menor que do random_forest ou do SGD.\n",
    "\n",
    "No geral, podemos preferir usar a Precision/Recall curve quando classes positivas são raras, ou quando devemos nos atentar mais a falsos positivos do que falsos negativos (mais precision do que recall). Se esses não forem o caso, talvez seja mais interessante usar a ROC curve. Assim sendo, caso a nossa maior preocupação não for a precisão na determinação de quem ganha mais de 50K, mas sim que a maior quantidade possível de pessoas que ganha mais de 50K sejam classificadas como tal, então poderíamos priorizar o uso do SGD, pois o seu ROC AUC score é maior."
   ]
  },
  {
   "cell_type": "markdown",
   "id": "8c5cdfbd",
   "metadata": {},
   "source": [
    "Uma última coisa que poderíamos fazer, também, seria combinar todos os estimadores em um único preditor, pois a combinação de estimadores diversos tem a possibilidade de resultar em predições melhores do que cada um individualmente, devido as suas diferentes características, pontos fortes e fracos, e a forma como cada um estima seus resultados. O nome disso é ensemble learning, e um algoritmo de ensemble learning é chamado de ensemble method. A própria Random Forest que usamos aqui na verdade é um exemplo de ensemble method, pois ela é a combinação de vários estimadores chamados Decision Trees.\n",
    "\n",
    "Vamos agora usar esse ensemble method combinando os três estimadores que usamos (vamos usar acurácia pois, mesmo não sendo a melhor forma de se avaliar classificadores, é interessante para ilustrar o uso de ensemble learning):"
   ]
  },
  {
   "cell_type": "code",
   "execution_count": 70,
   "id": "f087017d",
   "metadata": {},
   "outputs": [
    {
     "name": "stdout",
     "output_type": "stream",
     "text": [
      "random forest accuracy:  0.8044272274488102\n",
      "support vector machine accuracy:  0.8218594355285003\n",
      "stratified gradient descent accuracy:  0.8134753735473161\n",
      "combination of all three classifiers accuracy:  0.8247094631986718\n"
     ]
    }
   ],
   "source": [
    "from sklearn.ensemble import VotingClassifier\n",
    "\n",
    "vot_clf = VotingClassifier(estimators=[('svm', svm_clf), ('for', for_clf), ('sgd', sgd_clf)], voting='hard')\n",
    "vot_clf.fit(x_train, y_train)\n",
    "\n",
    "vot_scores = cross_val_score(vot_clf, x_train, y_train, cv=10, scoring=\"accuracy\")\n",
    "\n",
    "print('random forest accuracy: ', for_scores.mean())\n",
    "print('support vector machine accuracy: ', svm_scores.mean())\n",
    "print('stratified gradient descent accuracy: ', sgd_scores.mean())\n",
    "print('combination of all three classifiers accuracy: ', vot_scores.mean())"
   ]
  },
  {
   "cell_type": "markdown",
   "id": "3e8892f9",
   "metadata": {},
   "source": [
    "Obtivemos uma acurácia de 82.47%, maior do que a de todos os outros classificadores individualmente! O método de ensemble learning é muito útil, e mesmo a combinação de vários 'weak learners' (classificadores não muito melhores que um escolhedor aleatório) pode resultar num classificador substancialmente melhor.\n",
    "\n",
    "O hiperparâmetro 'voting' nos diz como é decidida a votação entre os diferentes classificadores. 'hard voting' é quando simplesmente agregamos as predições de cada classificador e predizemos a classe que recebe mais votos. Simplesmente o voto da maioria. Podemos também fazer o que é conhecido como 'soft voting', que é quando a classe predita é aquela com a maior probabilidade, sendo essa probabilidade determinada com base na média das probabilidades de cada classificador. Para usar soft voting, basta usarmos 'probability=True' na svm, pois assim ela vai estimar as probabilidades relacionadas com cada classe:"
   ]
  },
  {
   "cell_type": "code",
   "execution_count": 71,
   "id": "8141d416",
   "metadata": {},
   "outputs": [
    {
     "name": "stdout",
     "output_type": "stream",
     "text": [
      "random forest accuracy:  0.8044272274488102\n",
      "support vector machine accuracy:  0.8218594355285003\n",
      "stratified gradient descent accuracy:  0.8134753735473161\n",
      "combination of all three classifiers accuracy:  0.8240730492529054\n"
     ]
    }
   ],
   "source": [
    "svm_clf = SVC(gamma=\"auto\", C=11, probability=True, random_state=42)\n",
    "svm_clf.fit(x_train, y_train)\n",
    "\n",
    "vot_clf = VotingClassifier(estimators=[('svm', svm_clf), ('for', for_clf), ('sgd', sgd_clf)], voting='soft')\n",
    "vot_clf.fit(x_train, y_train)\n",
    "\n",
    "vot_scores = cross_val_score(vot_clf, x_train, y_train, cv=10, scoring=\"accuracy\")\n",
    "\n",
    "print('random forest accuracy: ', for_scores.mean())\n",
    "print('support vector machine accuracy: ', svm_scores.mean())\n",
    "print('stratified gradient descent accuracy: ', sgd_scores.mean())\n",
    "print('combination of all three classifiers accuracy: ', vot_scores.mean())"
   ]
  }
 ],
 "metadata": {
  "kernelspec": {
   "display_name": "Python 3 (ipykernel)",
   "language": "python",
   "name": "python3"
  },
  "language_info": {
   "codemirror_mode": {
    "name": "ipython",
    "version": 3
   },
   "file_extension": ".py",
   "mimetype": "text/x-python",
   "name": "python",
   "nbconvert_exporter": "python",
   "pygments_lexer": "ipython3",
   "version": "3.9.7"
  }
 },
 "nbformat": 4,
 "nbformat_minor": 5
}
